{
 "cells": [
  {
   "cell_type": "code",
   "execution_count": 1,
   "metadata": {},
   "outputs": [
    {
     "name": "stdout",
     "output_type": "stream",
     "text": [
      "2.7.0\n",
      "2.7.0\n"
     ]
    }
   ],
   "source": [
    "import sys\n",
    "assert sys.version_info >= (3, 5)\n",
    "\n",
    "import sklearn\n",
    "assert sklearn.__version__ >= \"0.20\"\n",
    "\n",
    "import numpy as np\n",
    "import os\n",
    "\n",
    "import matplotlib as mpl\n",
    "import matplotlib.pyplot as plt\n",
    "mpl.rc('axes', labelsize=14)\n",
    "mpl.rc('xtick', labelsize=12)\n",
    "mpl.rc('ytick', labelsize=12)\n",
    "\n",
    "import warnings\n",
    "warnings.filterwarnings(action=\"ignore\", message=\"^internal gelsd\")\n",
    "\n",
    "import os, warnings\n",
    "import matplotlib.pyplot as plt\n",
    "from matplotlib import gridspec\n",
    "\n",
    "import numpy as np\n",
    "import tensorflow as tf\n",
    "from tensorflow import keras\n",
    "# from keras.utils import to_categorical\n",
    "from tensorflow.keras.utils import to_categorical\n",
    "from tensorflow.keras import layers\n",
    "print(keras.__version__)\n",
    "import tensorflow\n",
    "print(tensorflow.__version__)\n",
    "from tensorflow.keras.layers.experimental import preprocessing"
   ]
  },
  {
   "cell_type": "code",
   "execution_count": 70,
   "metadata": {},
   "outputs": [
    {
     "name": "stderr",
     "output_type": "stream",
     "text": [
      "/home/marek/anaconda3/lib/python3.7/site-packages/numpy/lib/arraysetops.py:568: FutureWarning: elementwise comparison failed; returning scalar instead, but in the future will perform elementwise comparison\n",
      "  mask |= (ar1 == a)\n"
     ]
    }
   ],
   "source": [
    "import pandas as pd\n",
    "\n",
    "def load_data(data_path='data'):\n",
    "    train_csv_path = os.path.join(data_path, \"train.csv\")\n",
    "    test_csv_path = os.path.join(data_path, \"test.csv\")\n",
    "    return pd.read_csv(train_csv_path, index_col='Id'), pd.read_csv(test_csv_path, index_col='Id')\n",
    "\n",
    "train, test = load_data()"
   ]
  },
  {
   "cell_type": "code",
   "execution_count": null,
   "metadata": {},
   "outputs": [],
   "source": []
  },
  {
   "cell_type": "code",
   "execution_count": 71,
   "metadata": {},
   "outputs": [
    {
     "data": {
      "text/plain": [
       "Index(['Elevation', 'Aspect', 'Slope', 'Horizontal_Distance_To_Hydrology',\n",
       "       'Vertical_Distance_To_Hydrology', 'Horizontal_Distance_To_Roadways',\n",
       "       'Hillshade_9am', 'Hillshade_Noon', 'Hillshade_3pm',\n",
       "       'Horizontal_Distance_To_Fire_Points', 'Wilderness_Area1',\n",
       "       'Wilderness_Area2', 'Wilderness_Area3', 'Wilderness_Area4',\n",
       "       'Soil_Type1', 'Soil_Type2', 'Soil_Type3', 'Soil_Type4', 'Soil_Type5',\n",
       "       'Soil_Type6', 'Soil_Type7', 'Soil_Type8', 'Soil_Type9', 'Soil_Type10',\n",
       "       'Soil_Type11', 'Soil_Type12', 'Soil_Type13', 'Soil_Type14',\n",
       "       'Soil_Type15', 'Soil_Type16', 'Soil_Type17', 'Soil_Type18',\n",
       "       'Soil_Type19', 'Soil_Type20', 'Soil_Type21', 'Soil_Type22',\n",
       "       'Soil_Type23', 'Soil_Type24', 'Soil_Type25', 'Soil_Type26',\n",
       "       'Soil_Type27', 'Soil_Type28', 'Soil_Type29', 'Soil_Type30',\n",
       "       'Soil_Type31', 'Soil_Type32', 'Soil_Type33', 'Soil_Type34',\n",
       "       'Soil_Type35', 'Soil_Type36', 'Soil_Type37', 'Soil_Type38',\n",
       "       'Soil_Type39', 'Soil_Type40', 'Cover_Type'],\n",
       "      dtype='object')"
      ]
     },
     "execution_count": 71,
     "metadata": {},
     "output_type": "execute_result"
    }
   ],
   "source": [
    "train.columns"
   ]
  },
  {
   "cell_type": "code",
   "execution_count": 72,
   "metadata": {},
   "outputs": [],
   "source": [
    "train['Distance_To_Hydrology'] = (train['Horizontal_Distance_To_Hydrology']**2 + \n",
    "                                 train['Vertical_Distance_To_Hydrology']**2)**0.5\n",
    "\n",
    "test['Distance_To_Hydrology'] = (test['Horizontal_Distance_To_Hydrology']**2 + \n",
    "                                 test['Vertical_Distance_To_Hydrology']**2)**0.5"
   ]
  },
  {
   "cell_type": "code",
   "execution_count": 73,
   "metadata": {},
   "outputs": [
    {
     "data": {
      "text/html": [
       "<div>\n",
       "<style scoped>\n",
       "    .dataframe tbody tr th:only-of-type {\n",
       "        vertical-align: middle;\n",
       "    }\n",
       "\n",
       "    .dataframe tbody tr th {\n",
       "        vertical-align: top;\n",
       "    }\n",
       "\n",
       "    .dataframe thead th {\n",
       "        text-align: right;\n",
       "    }\n",
       "</style>\n",
       "<table border=\"1\" class=\"dataframe\">\n",
       "  <thead>\n",
       "    <tr style=\"text-align: right;\">\n",
       "      <th></th>\n",
       "      <th>Cover_Type</th>\n",
       "      <th>Horizontal_Distance_To_Hydrology</th>\n",
       "      <th>Vertical_Distance_To_Hydrology</th>\n",
       "      <th>Distance_To_Hydrology</th>\n",
       "    </tr>\n",
       "  </thead>\n",
       "  <tbody>\n",
       "    <tr>\n",
       "      <td>Cover_Type</td>\n",
       "      <td>1.000000</td>\n",
       "      <td>0.012712</td>\n",
       "      <td>0.033007</td>\n",
       "      <td>0.016334</td>\n",
       "    </tr>\n",
       "    <tr>\n",
       "      <td>Horizontal_Distance_To_Hydrology</td>\n",
       "      <td>0.012712</td>\n",
       "      <td>1.000000</td>\n",
       "      <td>0.016022</td>\n",
       "      <td>0.987679</td>\n",
       "    </tr>\n",
       "    <tr>\n",
       "      <td>Vertical_Distance_To_Hydrology</td>\n",
       "      <td>0.033007</td>\n",
       "      <td>0.016022</td>\n",
       "      <td>1.000000</td>\n",
       "      <td>0.145931</td>\n",
       "    </tr>\n",
       "    <tr>\n",
       "      <td>Distance_To_Hydrology</td>\n",
       "      <td>0.016334</td>\n",
       "      <td>0.987679</td>\n",
       "      <td>0.145931</td>\n",
       "      <td>1.000000</td>\n",
       "    </tr>\n",
       "  </tbody>\n",
       "</table>\n",
       "</div>"
      ],
      "text/plain": [
       "                                  Cover_Type  \\\n",
       "Cover_Type                          1.000000   \n",
       "Horizontal_Distance_To_Hydrology    0.012712   \n",
       "Vertical_Distance_To_Hydrology      0.033007   \n",
       "Distance_To_Hydrology               0.016334   \n",
       "\n",
       "                                  Horizontal_Distance_To_Hydrology  \\\n",
       "Cover_Type                                                0.012712   \n",
       "Horizontal_Distance_To_Hydrology                          1.000000   \n",
       "Vertical_Distance_To_Hydrology                            0.016022   \n",
       "Distance_To_Hydrology                                     0.987679   \n",
       "\n",
       "                                  Vertical_Distance_To_Hydrology  \\\n",
       "Cover_Type                                              0.033007   \n",
       "Horizontal_Distance_To_Hydrology                        0.016022   \n",
       "Vertical_Distance_To_Hydrology                          1.000000   \n",
       "Distance_To_Hydrology                                   0.145931   \n",
       "\n",
       "                                  Distance_To_Hydrology  \n",
       "Cover_Type                                     0.016334  \n",
       "Horizontal_Distance_To_Hydrology               0.987679  \n",
       "Vertical_Distance_To_Hydrology                 0.145931  \n",
       "Distance_To_Hydrology                          1.000000  "
      ]
     },
     "execution_count": 73,
     "metadata": {},
     "output_type": "execute_result"
    }
   ],
   "source": [
    "train[[\n",
    "    'Cover_Type',\n",
    "    'Horizontal_Distance_To_Hydrology',\n",
    "    'Vertical_Distance_To_Hydrology',\n",
    "    'Distance_To_Hydrology',\n",
    "]].corr()"
   ]
  },
  {
   "cell_type": "raw",
   "metadata": {},
   "source": []
  },
  {
   "cell_type": "code",
   "execution_count": 74,
   "metadata": {},
   "outputs": [],
   "source": [
    "train.drop(['Soil_Type7', 'Soil_Type15'], axis=1, inplace=True)\n",
    "test.drop(['Soil_Type7', 'Soil_Type15'], axis=1, inplace=True)"
   ]
  },
  {
   "cell_type": "code",
   "execution_count": 75,
   "metadata": {},
   "outputs": [],
   "source": [
    "# train.drop(['Horizontal_Distance_To_Hydrology', 'Vertical_Distance_To_Hydrology'], axis=1, inplace=True)\n",
    "# test.drop(['Horizontal_Distance_To_Hydrology', 'Vertical_Distance_To_Hydrology'], axis=1, inplace=True)"
   ]
  },
  {
   "cell_type": "code",
   "execution_count": 76,
   "metadata": {},
   "outputs": [
    {
     "data": {
      "text/plain": [
       "Index(['Elevation', 'Aspect', 'Slope', 'Horizontal_Distance_To_Hydrology',\n",
       "       'Vertical_Distance_To_Hydrology', 'Horizontal_Distance_To_Roadways',\n",
       "       'Hillshade_9am', 'Hillshade_Noon', 'Hillshade_3pm',\n",
       "       'Horizontal_Distance_To_Fire_Points', 'Wilderness_Area1',\n",
       "       'Wilderness_Area2', 'Wilderness_Area3', 'Wilderness_Area4',\n",
       "       'Soil_Type1', 'Soil_Type2', 'Soil_Type3', 'Soil_Type4', 'Soil_Type5',\n",
       "       'Soil_Type6', 'Soil_Type8', 'Soil_Type9', 'Soil_Type10', 'Soil_Type11',\n",
       "       'Soil_Type12', 'Soil_Type13', 'Soil_Type14', 'Soil_Type16',\n",
       "       'Soil_Type17', 'Soil_Type18', 'Soil_Type19', 'Soil_Type20',\n",
       "       'Soil_Type21', 'Soil_Type22', 'Soil_Type23', 'Soil_Type24',\n",
       "       'Soil_Type25', 'Soil_Type26', 'Soil_Type27', 'Soil_Type28',\n",
       "       'Soil_Type29', 'Soil_Type30', 'Soil_Type31', 'Soil_Type32',\n",
       "       'Soil_Type33', 'Soil_Type34', 'Soil_Type35', 'Soil_Type36',\n",
       "       'Soil_Type37', 'Soil_Type38', 'Soil_Type39', 'Soil_Type40',\n",
       "       'Cover_Type', 'Distance_To_Hydrology'],\n",
       "      dtype='object')"
      ]
     },
     "execution_count": 76,
     "metadata": {},
     "output_type": "execute_result"
    }
   ],
   "source": [
    "train.columns"
   ]
  },
  {
   "cell_type": "code",
   "execution_count": 77,
   "metadata": {},
   "outputs": [],
   "source": [
    "train['Horizontal_Distance_To_Roadways'] = abs(train['Horizontal_Distance_To_Roadways'])\n",
    "test['Horizontal_Distance_To_Roadways'] = abs(test['Horizontal_Distance_To_Roadways'])\n",
    "\n",
    "train['Horizontal_Distance_To_Fire_Points'] = abs(train['Horizontal_Distance_To_Fire_Points'])\n",
    "test['Horizontal_Distance_To_Fire_Points'] = abs(test['Horizontal_Distance_To_Fire_Points'])"
   ]
  },
  {
   "cell_type": "code",
   "execution_count": 78,
   "metadata": {},
   "outputs": [],
   "source": [
    "train['Slope'] = abs(train['Slope'])\n",
    "test['Slope'] = abs(test['Slope'])"
   ]
  },
  {
   "cell_type": "code",
   "execution_count": null,
   "metadata": {},
   "outputs": [],
   "source": []
  },
  {
   "cell_type": "code",
   "execution_count": 79,
   "metadata": {},
   "outputs": [
    {
     "data": {
      "text/plain": [
       "Int64Index([3403875], dtype='int64', name='Id')"
      ]
     },
     "execution_count": 79,
     "metadata": {},
     "output_type": "execute_result"
    }
   ],
   "source": [
    "train.loc[train.Cover_Type==5].index"
   ]
  },
  {
   "cell_type": "code",
   "execution_count": 80,
   "metadata": {},
   "outputs": [],
   "source": [
    "train.drop(train.loc[train.Cover_Type==5].index, axis=0, inplace=True)"
   ]
  },
  {
   "cell_type": "code",
   "execution_count": null,
   "metadata": {},
   "outputs": [],
   "source": []
  },
  {
   "cell_type": "code",
   "execution_count": 81,
   "metadata": {},
   "outputs": [
    {
     "data": {
      "text/plain": [
       "(3999999, 54)"
      ]
     },
     "execution_count": 81,
     "metadata": {},
     "output_type": "execute_result"
    }
   ],
   "source": [
    "train.shape"
   ]
  },
  {
   "cell_type": "code",
   "execution_count": null,
   "metadata": {},
   "outputs": [],
   "source": []
  },
  {
   "cell_type": "code",
   "execution_count": null,
   "metadata": {},
   "outputs": [],
   "source": []
  },
  {
   "cell_type": "code",
   "execution_count": 82,
   "metadata": {},
   "outputs": [],
   "source": [
    "num_classes = train['Cover_Type'].nunique()\n",
    "input_shape = (train.shape[1]-1)"
   ]
  },
  {
   "cell_type": "code",
   "execution_count": 83,
   "metadata": {},
   "outputs": [
    {
     "data": {
      "text/plain": [
       "6"
      ]
     },
     "execution_count": 83,
     "metadata": {},
     "output_type": "execute_result"
    }
   ],
   "source": [
    "train['Cover_Type'].nunique()"
   ]
  },
  {
   "cell_type": "code",
   "execution_count": 84,
   "metadata": {},
   "outputs": [],
   "source": [
    "y_train = train['Cover_Type']"
   ]
  },
  {
   "cell_type": "code",
   "execution_count": 85,
   "metadata": {},
   "outputs": [],
   "source": [
    "train.drop('Cover_Type', axis=1, inplace=True)"
   ]
  },
  {
   "cell_type": "code",
   "execution_count": 86,
   "metadata": {},
   "outputs": [
    {
     "data": {
      "text/plain": [
       "(3999999, 53)"
      ]
     },
     "execution_count": 86,
     "metadata": {},
     "output_type": "execute_result"
    }
   ],
   "source": [
    "train.shape"
   ]
  },
  {
   "cell_type": "code",
   "execution_count": 87,
   "metadata": {},
   "outputs": [
    {
     "data": {
      "text/plain": [
       "(1000000, 53)"
      ]
     },
     "execution_count": 87,
     "metadata": {},
     "output_type": "execute_result"
    }
   ],
   "source": [
    "test.shape"
   ]
  },
  {
   "cell_type": "code",
   "execution_count": null,
   "metadata": {},
   "outputs": [],
   "source": []
  },
  {
   "cell_type": "code",
   "execution_count": 88,
   "metadata": {},
   "outputs": [],
   "source": [
    "y_binary = to_categorical(y_train.values-1)"
   ]
  },
  {
   "cell_type": "code",
   "execution_count": 89,
   "metadata": {},
   "outputs": [],
   "source": [
    "y_pd = pd.get_dummies(y_train)"
   ]
  },
  {
   "cell_type": "code",
   "execution_count": 90,
   "metadata": {},
   "outputs": [
    {
     "data": {
      "text/plain": [
       "(3999999, 7)"
      ]
     },
     "execution_count": 90,
     "metadata": {},
     "output_type": "execute_result"
    }
   ],
   "source": [
    "y_binary.shape"
   ]
  },
  {
   "cell_type": "code",
   "execution_count": 91,
   "metadata": {},
   "outputs": [
    {
     "data": {
      "text/html": [
       "<div>\n",
       "<style scoped>\n",
       "    .dataframe tbody tr th:only-of-type {\n",
       "        vertical-align: middle;\n",
       "    }\n",
       "\n",
       "    .dataframe tbody tr th {\n",
       "        vertical-align: top;\n",
       "    }\n",
       "\n",
       "    .dataframe thead th {\n",
       "        text-align: right;\n",
       "    }\n",
       "</style>\n",
       "<table border=\"1\" class=\"dataframe\">\n",
       "  <thead>\n",
       "    <tr style=\"text-align: right;\">\n",
       "      <th></th>\n",
       "      <th>1</th>\n",
       "      <th>2</th>\n",
       "      <th>3</th>\n",
       "      <th>4</th>\n",
       "      <th>6</th>\n",
       "      <th>7</th>\n",
       "    </tr>\n",
       "    <tr>\n",
       "      <th>Id</th>\n",
       "      <th></th>\n",
       "      <th></th>\n",
       "      <th></th>\n",
       "      <th></th>\n",
       "      <th></th>\n",
       "      <th></th>\n",
       "    </tr>\n",
       "  </thead>\n",
       "  <tbody>\n",
       "    <tr>\n",
       "      <td>0</td>\n",
       "      <td>1</td>\n",
       "      <td>0</td>\n",
       "      <td>0</td>\n",
       "      <td>0</td>\n",
       "      <td>0</td>\n",
       "      <td>0</td>\n",
       "    </tr>\n",
       "    <tr>\n",
       "      <td>1</td>\n",
       "      <td>0</td>\n",
       "      <td>1</td>\n",
       "      <td>0</td>\n",
       "      <td>0</td>\n",
       "      <td>0</td>\n",
       "      <td>0</td>\n",
       "    </tr>\n",
       "    <tr>\n",
       "      <td>2</td>\n",
       "      <td>1</td>\n",
       "      <td>0</td>\n",
       "      <td>0</td>\n",
       "      <td>0</td>\n",
       "      <td>0</td>\n",
       "      <td>0</td>\n",
       "    </tr>\n",
       "    <tr>\n",
       "      <td>3</td>\n",
       "      <td>0</td>\n",
       "      <td>1</td>\n",
       "      <td>0</td>\n",
       "      <td>0</td>\n",
       "      <td>0</td>\n",
       "      <td>0</td>\n",
       "    </tr>\n",
       "    <tr>\n",
       "      <td>4</td>\n",
       "      <td>0</td>\n",
       "      <td>1</td>\n",
       "      <td>0</td>\n",
       "      <td>0</td>\n",
       "      <td>0</td>\n",
       "      <td>0</td>\n",
       "    </tr>\n",
       "    <tr>\n",
       "      <td>...</td>\n",
       "      <td>...</td>\n",
       "      <td>...</td>\n",
       "      <td>...</td>\n",
       "      <td>...</td>\n",
       "      <td>...</td>\n",
       "      <td>...</td>\n",
       "    </tr>\n",
       "    <tr>\n",
       "      <td>3999995</td>\n",
       "      <td>0</td>\n",
       "      <td>1</td>\n",
       "      <td>0</td>\n",
       "      <td>0</td>\n",
       "      <td>0</td>\n",
       "      <td>0</td>\n",
       "    </tr>\n",
       "    <tr>\n",
       "      <td>3999996</td>\n",
       "      <td>0</td>\n",
       "      <td>1</td>\n",
       "      <td>0</td>\n",
       "      <td>0</td>\n",
       "      <td>0</td>\n",
       "      <td>0</td>\n",
       "    </tr>\n",
       "    <tr>\n",
       "      <td>3999997</td>\n",
       "      <td>0</td>\n",
       "      <td>1</td>\n",
       "      <td>0</td>\n",
       "      <td>0</td>\n",
       "      <td>0</td>\n",
       "      <td>0</td>\n",
       "    </tr>\n",
       "    <tr>\n",
       "      <td>3999998</td>\n",
       "      <td>0</td>\n",
       "      <td>0</td>\n",
       "      <td>1</td>\n",
       "      <td>0</td>\n",
       "      <td>0</td>\n",
       "      <td>0</td>\n",
       "    </tr>\n",
       "    <tr>\n",
       "      <td>3999999</td>\n",
       "      <td>1</td>\n",
       "      <td>0</td>\n",
       "      <td>0</td>\n",
       "      <td>0</td>\n",
       "      <td>0</td>\n",
       "      <td>0</td>\n",
       "    </tr>\n",
       "  </tbody>\n",
       "</table>\n",
       "<p>3999999 rows × 6 columns</p>\n",
       "</div>"
      ],
      "text/plain": [
       "         1  2  3  4  6  7\n",
       "Id                       \n",
       "0        1  0  0  0  0  0\n",
       "1        0  1  0  0  0  0\n",
       "2        1  0  0  0  0  0\n",
       "3        0  1  0  0  0  0\n",
       "4        0  1  0  0  0  0\n",
       "...     .. .. .. .. .. ..\n",
       "3999995  0  1  0  0  0  0\n",
       "3999996  0  1  0  0  0  0\n",
       "3999997  0  1  0  0  0  0\n",
       "3999998  0  0  1  0  0  0\n",
       "3999999  1  0  0  0  0  0\n",
       "\n",
       "[3999999 rows x 6 columns]"
      ]
     },
     "execution_count": 91,
     "metadata": {},
     "output_type": "execute_result"
    }
   ],
   "source": [
    "y_pd"
   ]
  },
  {
   "cell_type": "code",
   "execution_count": 92,
   "metadata": {},
   "outputs": [
    {
     "data": {
      "text/plain": [
       "53"
      ]
     },
     "execution_count": 92,
     "metadata": {},
     "output_type": "execute_result"
    }
   ],
   "source": [
    "input_shape"
   ]
  },
  {
   "cell_type": "code",
   "execution_count": null,
   "metadata": {},
   "outputs": [],
   "source": []
  },
  {
   "cell_type": "code",
   "execution_count": 93,
   "metadata": {},
   "outputs": [],
   "source": [
    "train.loc[train.Aspect<0, 'Aspect'] = train.loc[train.Aspect<0, 'Aspect'] + 360.0"
   ]
  },
  {
   "cell_type": "code",
   "execution_count": 94,
   "metadata": {},
   "outputs": [],
   "source": [
    "train.loc[train.Aspect>360, 'Aspect'] = train.loc[train.Aspect>360.0, 'Aspect'] - 360.0"
   ]
  },
  {
   "cell_type": "code",
   "execution_count": 95,
   "metadata": {},
   "outputs": [],
   "source": [
    "test.loc[test.Aspect<0, 'Aspect'] = test.loc[test.Aspect<0, 'Aspect'] + 360.0\n",
    "test.loc[test.Aspect>360, 'Aspect'] = test.loc[test.Aspect>360.0, 'Aspect'] - 360.0"
   ]
  },
  {
   "cell_type": "code",
   "execution_count": 96,
   "metadata": {},
   "outputs": [],
   "source": [
    "train.loc[train.Hillshade_9am<0, 'Hillshade_9am'] = 0\n",
    "train.loc[train.Hillshade_9am>255, 'Hillshade_9am'] = 255\n",
    "train.loc[train.Hillshade_Noon<0, 'Hillshade_Noon'] = 0\n",
    "train.loc[train.Hillshade_Noon>255, 'Hillshade_Noon'] = 255\n",
    "train.loc[train.Hillshade_3pm<0, 'Hillshade_3pm'] = 0\n",
    "train.loc[train.Hillshade_3pm>255, 'Hillshade_3pm'] = 255\n",
    "\n",
    "test.loc[test.Hillshade_9am<0, 'Hillshade_9am'] = 0\n",
    "test.loc[test.Hillshade_9am>255, 'Hillshade_9am'] = 255\n",
    "test.loc[test.Hillshade_Noon<0, 'Hillshade_Noon'] = 0\n",
    "test.loc[test.Hillshade_Noon>255, 'Hillshade_Noon'] = 255\n",
    "test.loc[test.Hillshade_3pm<0, 'Hillshade_3pm'] = 0\n",
    "test.loc[test.Hillshade_3pm>255, 'Hillshade_3pm'] = 255"
   ]
  },
  {
   "cell_type": "code",
   "execution_count": null,
   "metadata": {},
   "outputs": [],
   "source": []
  },
  {
   "cell_type": "code",
   "execution_count": 97,
   "metadata": {},
   "outputs": [],
   "source": [
    "from sklearn.preprocessing import RobustScaler"
   ]
  },
  {
   "cell_type": "code",
   "execution_count": 98,
   "metadata": {},
   "outputs": [],
   "source": [
    "transformer = RobustScaler().fit(train)"
   ]
  },
  {
   "cell_type": "code",
   "execution_count": 99,
   "metadata": {},
   "outputs": [],
   "source": [
    "train = transformer.transform(train)"
   ]
  },
  {
   "cell_type": "code",
   "execution_count": 100,
   "metadata": {},
   "outputs": [],
   "source": [
    "test = transformer.transform(test)"
   ]
  },
  {
   "cell_type": "code",
   "execution_count": null,
   "metadata": {},
   "outputs": [],
   "source": []
  },
  {
   "cell_type": "code",
   "execution_count": 101,
   "metadata": {},
   "outputs": [],
   "source": [
    "model = keras.Sequential([\n",
    "    layers.InputLayer(input_shape=[input_shape]),\n",
    "    \n",
    "    layers.Dense(256, activation=\"relu\"),\n",
    "    layers.BatchNormalization(),\n",
    "    layers.Dropout(0.3),\n",
    "    \n",
    "    layers.Dense(256, activation=\"relu\"),\n",
    "    layers.BatchNormalization(),\n",
    "    layers.Dropout(0.3),\n",
    "    \n",
    "    layers.Dense(256, activation=\"relu\"),\n",
    "    layers.BatchNormalization(),\n",
    "    layers.Dropout(0.3),\n",
    "    \n",
    "    layers.Dense(num_classes, activation='softmax'),\n",
    "])\n"
   ]
  },
  {
   "cell_type": "code",
   "execution_count": 102,
   "metadata": {},
   "outputs": [
    {
     "name": "stdout",
     "output_type": "stream",
     "text": [
      "Model: \"sequential_2\"\n",
      "_________________________________________________________________\n",
      " Layer (type)                Output Shape              Param #   \n",
      "=================================================================\n",
      " dense_8 (Dense)             (None, 256)               13824     \n",
      "                                                                 \n",
      " batch_normalization_6 (Batc  (None, 256)              1024      \n",
      " hNormalization)                                                 \n",
      "                                                                 \n",
      " dropout_6 (Dropout)         (None, 256)               0         \n",
      "                                                                 \n",
      " dense_9 (Dense)             (None, 256)               65792     \n",
      "                                                                 \n",
      " batch_normalization_7 (Batc  (None, 256)              1024      \n",
      " hNormalization)                                                 \n",
      "                                                                 \n",
      " dropout_7 (Dropout)         (None, 256)               0         \n",
      "                                                                 \n",
      " dense_10 (Dense)            (None, 256)               65792     \n",
      "                                                                 \n",
      " batch_normalization_8 (Batc  (None, 256)              1024      \n",
      " hNormalization)                                                 \n",
      "                                                                 \n",
      " dropout_8 (Dropout)         (None, 256)               0         \n",
      "                                                                 \n",
      " dense_11 (Dense)            (None, 6)                 1542      \n",
      "                                                                 \n",
      "=================================================================\n",
      "Total params: 150,022\n",
      "Trainable params: 148,486\n",
      "Non-trainable params: 1,536\n",
      "_________________________________________________________________\n"
     ]
    }
   ],
   "source": [
    "model.summary()"
   ]
  },
  {
   "cell_type": "code",
   "execution_count": 103,
   "metadata": {},
   "outputs": [],
   "source": [
    "model.compile(\n",
    "    optimizer=tf.keras.optimizers.Adam(),\n",
    "    loss='categorical_crossentropy',\n",
    "    metrics=['categorical_accuracy'],\n",
    ")"
   ]
  },
  {
   "cell_type": "code",
   "execution_count": 104,
   "metadata": {},
   "outputs": [],
   "source": [
    "from keras.callbacks import EarlyStopping\n",
    "\n",
    "early_stopping = EarlyStopping(patience=20, restore_best_weights=True)"
   ]
  },
  {
   "cell_type": "code",
   "execution_count": 105,
   "metadata": {
    "scrolled": true
   },
   "outputs": [
    {
     "name": "stdout",
     "output_type": "stream",
     "text": [
      "Epoch 1/200\n",
      "WARNING:tensorflow:AutoGraph could not transform <function Model.make_train_function.<locals>.train_function at 0x7ffaf7e3bf80> and will run it as-is.\n",
      "Please report this to the TensorFlow team. When filing the bug, set the verbosity to 10 (on Linux, `export AUTOGRAPH_VERBOSITY=10`) and attach the full output.\n",
      "Cause: 'arguments' object has no attribute 'posonlyargs'\n",
      "To silence this warning, decorate the function with @tf.autograph.experimental.do_not_convert\n",
      "WARNING: AutoGraph could not transform <function Model.make_train_function.<locals>.train_function at 0x7ffaf7e3bf80> and will run it as-is.\n",
      "Please report this to the TensorFlow team. When filing the bug, set the verbosity to 10 (on Linux, `export AUTOGRAPH_VERBOSITY=10`) and attach the full output.\n",
      "Cause: 'arguments' object has no attribute 'posonlyargs'\n",
      "To silence this warning, decorate the function with @tf.autograph.experimental.do_not_convert\n",
      "3124/3125 [============================>.] - ETA: 0s - loss: 0.1690 - categorical_accuracy: 0.9347WARNING:tensorflow:AutoGraph could not transform <function Model.make_test_function.<locals>.test_function at 0x7ffaf7c03d40> and will run it as-is.\n",
      "Please report this to the TensorFlow team. When filing the bug, set the verbosity to 10 (on Linux, `export AUTOGRAPH_VERBOSITY=10`) and attach the full output.\n",
      "Cause: 'arguments' object has no attribute 'posonlyargs'\n",
      "To silence this warning, decorate the function with @tf.autograph.experimental.do_not_convert\n",
      "WARNING: AutoGraph could not transform <function Model.make_test_function.<locals>.test_function at 0x7ffaf7c03d40> and will run it as-is.\n",
      "Please report this to the TensorFlow team. When filing the bug, set the verbosity to 10 (on Linux, `export AUTOGRAPH_VERBOSITY=10`) and attach the full output.\n",
      "Cause: 'arguments' object has no attribute 'posonlyargs'\n",
      "To silence this warning, decorate the function with @tf.autograph.experimental.do_not_convert\n",
      "3125/3125 [==============================] - 39s 12ms/step - loss: 0.1690 - categorical_accuracy: 0.9347 - val_loss: 0.1168 - val_categorical_accuracy: 0.9515\n",
      "Epoch 2/200\n",
      "3125/3125 [==============================] - 40s 13ms/step - loss: 0.1134 - categorical_accuracy: 0.9517 - val_loss: 0.1092 - val_categorical_accuracy: 0.9534\n",
      "Epoch 3/200\n",
      "3125/3125 [==============================] - 40s 13ms/step - loss: 0.1057 - categorical_accuracy: 0.9543 - val_loss: 0.1031 - val_categorical_accuracy: 0.9547\n",
      "Epoch 4/200\n",
      "3125/3125 [==============================] - 41s 13ms/step - loss: 0.1016 - categorical_accuracy: 0.9556 - val_loss: 0.1011 - val_categorical_accuracy: 0.9552\n",
      "Epoch 5/200\n",
      "3125/3125 [==============================] - 40s 13ms/step - loss: 0.0988 - categorical_accuracy: 0.9565 - val_loss: 0.0993 - val_categorical_accuracy: 0.9557\n",
      "Epoch 6/200\n",
      "3125/3125 [==============================] - 69s 22ms/step - loss: 0.0967 - categorical_accuracy: 0.9570 - val_loss: 0.0962 - val_categorical_accuracy: 0.9567\n",
      "Epoch 7/200\n",
      "3125/3125 [==============================] - 34s 11ms/step - loss: 0.0953 - categorical_accuracy: 0.9574 - val_loss: 0.0950 - val_categorical_accuracy: 0.9569\n",
      "Epoch 8/200\n",
      "3125/3125 [==============================] - 35s 11ms/step - loss: 0.0939 - categorical_accuracy: 0.9579 - val_loss: 0.0943 - val_categorical_accuracy: 0.9569\n",
      "Epoch 9/200\n",
      "3125/3125 [==============================] - 35s 11ms/step - loss: 0.0930 - categorical_accuracy: 0.9581 - val_loss: 0.0939 - val_categorical_accuracy: 0.9572\n",
      "Epoch 10/200\n",
      "3125/3125 [==============================] - 35s 11ms/step - loss: 0.0924 - categorical_accuracy: 0.9582 - val_loss: 0.0927 - val_categorical_accuracy: 0.9578\n",
      "Epoch 11/200\n",
      "3125/3125 [==============================] - 50s 16ms/step - loss: 0.0916 - categorical_accuracy: 0.9586 - val_loss: 0.0928 - val_categorical_accuracy: 0.9576\n",
      "Epoch 12/200\n",
      "3125/3125 [==============================] - 36s 12ms/step - loss: 0.0909 - categorical_accuracy: 0.9587 - val_loss: 0.0911 - val_categorical_accuracy: 0.9581\n",
      "Epoch 13/200\n",
      "3125/3125 [==============================] - 35s 11ms/step - loss: 0.0904 - categorical_accuracy: 0.9589 - val_loss: 0.0906 - val_categorical_accuracy: 0.9581\n",
      "Epoch 14/200\n",
      "3125/3125 [==============================] - 66s 21ms/step - loss: 0.0900 - categorical_accuracy: 0.9588 - val_loss: 0.0907 - val_categorical_accuracy: 0.9581\n",
      "Epoch 15/200\n",
      "3125/3125 [==============================] - 35s 11ms/step - loss: 0.0894 - categorical_accuracy: 0.9590 - val_loss: 0.0909 - val_categorical_accuracy: 0.9579\n",
      "Epoch 16/200\n",
      "3125/3125 [==============================] - 35s 11ms/step - loss: 0.0892 - categorical_accuracy: 0.9590 - val_loss: 0.0909 - val_categorical_accuracy: 0.9578\n",
      "Epoch 17/200\n",
      "3125/3125 [==============================] - 33s 10ms/step - loss: 0.0888 - categorical_accuracy: 0.9592 - val_loss: 0.0892 - val_categorical_accuracy: 0.9585\n",
      "Epoch 18/200\n",
      "3125/3125 [==============================] - 35s 11ms/step - loss: 0.0885 - categorical_accuracy: 0.9593 - val_loss: 0.0898 - val_categorical_accuracy: 0.9583\n",
      "Epoch 19/200\n",
      "3125/3125 [==============================] - 69s 22ms/step - loss: 0.0883 - categorical_accuracy: 0.9593 - val_loss: 0.0900 - val_categorical_accuracy: 0.9580\n",
      "Epoch 20/200\n",
      "3125/3125 [==============================] - 32s 10ms/step - loss: 0.0879 - categorical_accuracy: 0.9594 - val_loss: 0.0892 - val_categorical_accuracy: 0.9582\n",
      "Epoch 21/200\n",
      "3125/3125 [==============================] - 34s 11ms/step - loss: 0.0876 - categorical_accuracy: 0.9594 - val_loss: 0.0893 - val_categorical_accuracy: 0.9581\n",
      "Epoch 22/200\n",
      "3125/3125 [==============================] - 35s 11ms/step - loss: 0.0875 - categorical_accuracy: 0.9596 - val_loss: 0.0891 - val_categorical_accuracy: 0.9585\n",
      "Epoch 23/200\n",
      "3125/3125 [==============================] - 36s 12ms/step - loss: 0.0870 - categorical_accuracy: 0.9597 - val_loss: 0.0879 - val_categorical_accuracy: 0.9586\n",
      "Epoch 24/200\n",
      "3125/3125 [==============================] - 63s 20ms/step - loss: 0.0871 - categorical_accuracy: 0.9597 - val_loss: 0.0885 - val_categorical_accuracy: 0.9584\n",
      "Epoch 25/200\n",
      "3125/3125 [==============================] - 34s 11ms/step - loss: 0.0867 - categorical_accuracy: 0.9598 - val_loss: 0.0894 - val_categorical_accuracy: 0.9583\n",
      "Epoch 26/200\n",
      "3125/3125 [==============================] - 35s 11ms/step - loss: 0.0865 - categorical_accuracy: 0.9598 - val_loss: 0.0884 - val_categorical_accuracy: 0.9586\n",
      "Epoch 27/200\n",
      "3125/3125 [==============================] - 35s 11ms/step - loss: 0.0865 - categorical_accuracy: 0.9598 - val_loss: 0.0879 - val_categorical_accuracy: 0.9586\n",
      "Epoch 28/200\n",
      "3125/3125 [==============================] - 71s 23ms/step - loss: 0.0862 - categorical_accuracy: 0.9599 - val_loss: 0.0880 - val_categorical_accuracy: 0.9585\n",
      "Epoch 29/200\n",
      "3125/3125 [==============================] - 34s 11ms/step - loss: 0.0861 - categorical_accuracy: 0.9599 - val_loss: 0.0876 - val_categorical_accuracy: 0.9587\n",
      "Epoch 30/200\n",
      "3125/3125 [==============================] - 35s 11ms/step - loss: 0.0859 - categorical_accuracy: 0.9601 - val_loss: 0.0876 - val_categorical_accuracy: 0.9587\n",
      "Epoch 31/200\n",
      "3125/3125 [==============================] - 35s 11ms/step - loss: 0.0856 - categorical_accuracy: 0.9601 - val_loss: 0.0871 - val_categorical_accuracy: 0.9589\n",
      "Epoch 32/200\n",
      "3125/3125 [==============================] - 52s 17ms/step - loss: 0.0857 - categorical_accuracy: 0.9600 - val_loss: 0.0875 - val_categorical_accuracy: 0.9586\n",
      "Epoch 33/200\n",
      "3125/3125 [==============================] - 54s 17ms/step - loss: 0.0854 - categorical_accuracy: 0.9602 - val_loss: 0.0868 - val_categorical_accuracy: 0.9589\n",
      "Epoch 34/200\n",
      "3125/3125 [==============================] - 38s 12ms/step - loss: 0.0854 - categorical_accuracy: 0.9602 - val_loss: 0.0871 - val_categorical_accuracy: 0.9586\n",
      "Epoch 35/200\n",
      "3125/3125 [==============================] - 37s 12ms/step - loss: 0.0853 - categorical_accuracy: 0.9602 - val_loss: 0.0869 - val_categorical_accuracy: 0.9589\n",
      "Epoch 36/200\n",
      "3125/3125 [==============================] - 69s 22ms/step - loss: 0.0853 - categorical_accuracy: 0.9602 - val_loss: 0.0873 - val_categorical_accuracy: 0.9587\n",
      "Epoch 37/200\n"
     ]
    },
    {
     "name": "stdout",
     "output_type": "stream",
     "text": [
      "3125/3125 [==============================] - 37s 12ms/step - loss: 0.0849 - categorical_accuracy: 0.9602 - val_loss: 0.0868 - val_categorical_accuracy: 0.9589\n",
      "Epoch 38/200\n",
      "3125/3125 [==============================] - 38s 12ms/step - loss: 0.0849 - categorical_accuracy: 0.9603 - val_loss: 0.0864 - val_categorical_accuracy: 0.9590\n",
      "Epoch 39/200\n",
      "3125/3125 [==============================] - 73s 23ms/step - loss: 0.0848 - categorical_accuracy: 0.9603 - val_loss: 0.0868 - val_categorical_accuracy: 0.9589\n",
      "Epoch 40/200\n",
      "3125/3125 [==============================] - 36s 11ms/step - loss: 0.0848 - categorical_accuracy: 0.9602 - val_loss: 0.0868 - val_categorical_accuracy: 0.9587\n",
      "Epoch 41/200\n",
      "3125/3125 [==============================] - 37s 12ms/step - loss: 0.0848 - categorical_accuracy: 0.9603 - val_loss: 0.0861 - val_categorical_accuracy: 0.9591\n",
      "Epoch 42/200\n",
      "3125/3125 [==============================] - 42s 14ms/step - loss: 0.0846 - categorical_accuracy: 0.9604 - val_loss: 0.0864 - val_categorical_accuracy: 0.9590\n",
      "Epoch 43/200\n",
      "3125/3125 [==============================] - 68s 22ms/step - loss: 0.0844 - categorical_accuracy: 0.9604 - val_loss: 0.0868 - val_categorical_accuracy: 0.9586\n",
      "Epoch 44/200\n",
      "3125/3125 [==============================] - 34s 11ms/step - loss: 0.0844 - categorical_accuracy: 0.9604 - val_loss: 0.0866 - val_categorical_accuracy: 0.9586\n",
      "Epoch 45/200\n",
      "3125/3125 [==============================] - 34s 11ms/step - loss: 0.0845 - categorical_accuracy: 0.9604 - val_loss: 0.0860 - val_categorical_accuracy: 0.9590\n",
      "Epoch 46/200\n",
      "3125/3125 [==============================] - 35s 11ms/step - loss: 0.0843 - categorical_accuracy: 0.9604 - val_loss: 0.0861 - val_categorical_accuracy: 0.9590\n",
      "Epoch 47/200\n",
      "3125/3125 [==============================] - 67s 21ms/step - loss: 0.0842 - categorical_accuracy: 0.9604 - val_loss: 0.0861 - val_categorical_accuracy: 0.9592\n",
      "Epoch 48/200\n",
      "3125/3125 [==============================] - 34s 11ms/step - loss: 0.0843 - categorical_accuracy: 0.9603 - val_loss: 0.0862 - val_categorical_accuracy: 0.9591\n",
      "Epoch 49/200\n",
      "3125/3125 [==============================] - 35s 11ms/step - loss: 0.0840 - categorical_accuracy: 0.9606 - val_loss: 0.0870 - val_categorical_accuracy: 0.9588\n",
      "Epoch 50/200\n",
      "3125/3125 [==============================] - 34s 11ms/step - loss: 0.0839 - categorical_accuracy: 0.9605 - val_loss: 0.0868 - val_categorical_accuracy: 0.9588\n",
      "Epoch 51/200\n",
      "3125/3125 [==============================] - 68s 22ms/step - loss: 0.0839 - categorical_accuracy: 0.9604 - val_loss: 0.0859 - val_categorical_accuracy: 0.9591\n",
      "Epoch 52/200\n",
      "3125/3125 [==============================] - 38s 12ms/step - loss: 0.0837 - categorical_accuracy: 0.9606 - val_loss: 0.0864 - val_categorical_accuracy: 0.9589\n",
      "Epoch 53/200\n",
      "3125/3125 [==============================] - 34s 11ms/step - loss: 0.0839 - categorical_accuracy: 0.9606 - val_loss: 0.0857 - val_categorical_accuracy: 0.9591\n",
      "Epoch 54/200\n",
      "3125/3125 [==============================] - 35s 11ms/step - loss: 0.0838 - categorical_accuracy: 0.9606 - val_loss: 0.0854 - val_categorical_accuracy: 0.9593\n",
      "Epoch 55/200\n",
      "3125/3125 [==============================] - 36s 12ms/step - loss: 0.0837 - categorical_accuracy: 0.9607 - val_loss: 0.0858 - val_categorical_accuracy: 0.9591\n",
      "Epoch 56/200\n",
      "3125/3125 [==============================] - 65s 21ms/step - loss: 0.0838 - categorical_accuracy: 0.9605 - val_loss: 0.0863 - val_categorical_accuracy: 0.9591\n",
      "Epoch 57/200\n",
      "3125/3125 [==============================] - 38s 12ms/step - loss: 0.0836 - categorical_accuracy: 0.9607 - val_loss: 0.0859 - val_categorical_accuracy: 0.9590\n",
      "Epoch 58/200\n",
      "3125/3125 [==============================] - 34s 11ms/step - loss: 0.0835 - categorical_accuracy: 0.9607 - val_loss: 0.0857 - val_categorical_accuracy: 0.9592\n",
      "Epoch 59/200\n",
      "3125/3125 [==============================] - 51s 16ms/step - loss: 0.0836 - categorical_accuracy: 0.9607 - val_loss: 0.0856 - val_categorical_accuracy: 0.9592\n",
      "Epoch 60/200\n",
      "3125/3125 [==============================] - 49s 16ms/step - loss: 0.0833 - categorical_accuracy: 0.9607 - val_loss: 0.0857 - val_categorical_accuracy: 0.9590\n",
      "Epoch 61/200\n",
      "3125/3125 [==============================] - 34s 11ms/step - loss: 0.0834 - categorical_accuracy: 0.9607 - val_loss: 0.0854 - val_categorical_accuracy: 0.9592\n",
      "Epoch 62/200\n",
      "3125/3125 [==============================] - 34s 11ms/step - loss: 0.0833 - categorical_accuracy: 0.9607 - val_loss: 0.0854 - val_categorical_accuracy: 0.9590\n",
      "Epoch 63/200\n",
      "3125/3125 [==============================] - 57s 18ms/step - loss: 0.0832 - categorical_accuracy: 0.9607 - val_loss: 0.0853 - val_categorical_accuracy: 0.9591\n",
      "Epoch 64/200\n",
      "3125/3125 [==============================] - 44s 14ms/step - loss: 0.0831 - categorical_accuracy: 0.9607 - val_loss: 0.0852 - val_categorical_accuracy: 0.9593\n",
      "Epoch 65/200\n",
      "3125/3125 [==============================] - 34s 11ms/step - loss: 0.0831 - categorical_accuracy: 0.9607 - val_loss: 0.0853 - val_categorical_accuracy: 0.9591\n",
      "Epoch 66/200\n",
      "3125/3125 [==============================] - 34s 11ms/step - loss: 0.0830 - categorical_accuracy: 0.9608 - val_loss: 0.0855 - val_categorical_accuracy: 0.9591\n",
      "Epoch 67/200\n",
      "3125/3125 [==============================] - 41s 13ms/step - loss: 0.0830 - categorical_accuracy: 0.9607 - val_loss: 0.0851 - val_categorical_accuracy: 0.9591\n",
      "Epoch 68/200\n",
      "3125/3125 [==============================] - 55s 18ms/step - loss: 0.0830 - categorical_accuracy: 0.9608 - val_loss: 0.0849 - val_categorical_accuracy: 0.9594\n",
      "Epoch 69/200\n",
      "3125/3125 [==============================] - 34s 11ms/step - loss: 0.0830 - categorical_accuracy: 0.9608 - val_loss: 0.0855 - val_categorical_accuracy: 0.9593\n",
      "Epoch 70/200\n",
      "3125/3125 [==============================] - 34s 11ms/step - loss: 0.0828 - categorical_accuracy: 0.9608 - val_loss: 0.0854 - val_categorical_accuracy: 0.9590\n",
      "Epoch 71/200\n",
      "3125/3125 [==============================] - 43s 14ms/step - loss: 0.0828 - categorical_accuracy: 0.9608 - val_loss: 0.0852 - val_categorical_accuracy: 0.9591\n",
      "Epoch 72/200\n",
      "3125/3125 [==============================] - 65s 21ms/step - loss: 0.0829 - categorical_accuracy: 0.9608 - val_loss: 0.0852 - val_categorical_accuracy: 0.9593\n",
      "Epoch 73/200\n",
      "3125/3125 [==============================] - 38s 12ms/step - loss: 0.0827 - categorical_accuracy: 0.9608 - val_loss: 0.0860 - val_categorical_accuracy: 0.9588\n",
      "Epoch 74/200\n",
      "3125/3125 [==============================] - 65s 21ms/step - loss: 0.0825 - categorical_accuracy: 0.9608 - val_loss: 0.0851 - val_categorical_accuracy: 0.9593\n",
      "Epoch 75/200\n",
      "3125/3125 [==============================] - 38s 12ms/step - loss: 0.0827 - categorical_accuracy: 0.9607 - val_loss: 0.0851 - val_categorical_accuracy: 0.9592\n",
      "Epoch 76/200\n",
      "3125/3125 [==============================] - 38s 12ms/step - loss: 0.0826 - categorical_accuracy: 0.9609 - val_loss: 0.0848 - val_categorical_accuracy: 0.9593\n",
      "Epoch 77/200\n",
      "3125/3125 [==============================] - 70s 23ms/step - loss: 0.0825 - categorical_accuracy: 0.9609 - val_loss: 0.0847 - val_categorical_accuracy: 0.9592\n",
      "Epoch 78/200\n",
      "3125/3125 [==============================] - 34s 11ms/step - loss: 0.0826 - categorical_accuracy: 0.9609 - val_loss: 0.0855 - val_categorical_accuracy: 0.9590\n",
      "Epoch 79/200\n",
      "3125/3125 [==============================] - 35s 11ms/step - loss: 0.0826 - categorical_accuracy: 0.9609 - val_loss: 0.0847 - val_categorical_accuracy: 0.9595\n",
      "Epoch 80/200\n",
      "3125/3125 [==============================] - 34s 11ms/step - loss: 0.0823 - categorical_accuracy: 0.9610 - val_loss: 0.0848 - val_categorical_accuracy: 0.9594\n",
      "Epoch 81/200\n",
      "3125/3125 [==============================] - 71s 23ms/step - loss: 0.0825 - categorical_accuracy: 0.9610 - val_loss: 0.0848 - val_categorical_accuracy: 0.9594\n",
      "Epoch 82/200\n",
      "3125/3125 [==============================] - 34s 11ms/step - loss: 0.0824 - categorical_accuracy: 0.9608 - val_loss: 0.0844 - val_categorical_accuracy: 0.9592\n",
      "Epoch 83/200\n",
      "3125/3125 [==============================] - 34s 11ms/step - loss: 0.0823 - categorical_accuracy: 0.9609 - val_loss: 0.0852 - val_categorical_accuracy: 0.9592\n",
      "Epoch 84/200\n",
      "3125/3125 [==============================] - 34s 11ms/step - loss: 0.0823 - categorical_accuracy: 0.9609 - val_loss: 0.0851 - val_categorical_accuracy: 0.9593\n"
     ]
    },
    {
     "name": "stdout",
     "output_type": "stream",
     "text": [
      "Epoch 85/200\n",
      "3125/3125 [==============================] - 42s 13ms/step - loss: 0.0824 - categorical_accuracy: 0.9609 - val_loss: 0.0847 - val_categorical_accuracy: 0.9591\n",
      "Epoch 86/200\n",
      "3125/3125 [==============================] - 62s 20ms/step - loss: 0.0824 - categorical_accuracy: 0.9609 - val_loss: 0.0850 - val_categorical_accuracy: 0.9590\n",
      "Epoch 87/200\n",
      "3125/3125 [==============================] - 32s 10ms/step - loss: 0.0822 - categorical_accuracy: 0.9610 - val_loss: 0.0849 - val_categorical_accuracy: 0.9592\n",
      "Epoch 88/200\n",
      "3125/3125 [==============================] - 32s 10ms/step - loss: 0.0823 - categorical_accuracy: 0.9610 - val_loss: 0.0854 - val_categorical_accuracy: 0.9591\n",
      "Epoch 89/200\n",
      "3125/3125 [==============================] - 32s 10ms/step - loss: 0.0821 - categorical_accuracy: 0.9610 - val_loss: 0.0848 - val_categorical_accuracy: 0.9593\n",
      "Epoch 90/200\n",
      "3125/3125 [==============================] - 31s 10ms/step - loss: 0.0821 - categorical_accuracy: 0.9610 - val_loss: 0.0849 - val_categorical_accuracy: 0.9592\n",
      "Epoch 91/200\n",
      "3125/3125 [==============================] - 32s 10ms/step - loss: 0.0821 - categorical_accuracy: 0.9609 - val_loss: 0.0854 - val_categorical_accuracy: 0.9591\n",
      "Epoch 92/200\n",
      "3125/3125 [==============================] - 32s 10ms/step - loss: 0.0820 - categorical_accuracy: 0.9610 - val_loss: 0.0844 - val_categorical_accuracy: 0.9594\n",
      "Epoch 93/200\n",
      "3125/3125 [==============================] - 35s 11ms/step - loss: 0.0820 - categorical_accuracy: 0.9609 - val_loss: 0.0846 - val_categorical_accuracy: 0.9593\n",
      "Epoch 94/200\n",
      "3125/3125 [==============================] - 49s 16ms/step - loss: 0.0821 - categorical_accuracy: 0.9610 - val_loss: 0.0844 - val_categorical_accuracy: 0.9594\n",
      "Epoch 95/200\n",
      "3125/3125 [==============================] - 31s 10ms/step - loss: 0.0820 - categorical_accuracy: 0.9610 - val_loss: 0.0846 - val_categorical_accuracy: 0.9591\n",
      "Epoch 96/200\n",
      "3125/3125 [==============================] - 32s 10ms/step - loss: 0.0820 - categorical_accuracy: 0.9609 - val_loss: 0.0851 - val_categorical_accuracy: 0.9587\n",
      "Epoch 97/200\n",
      "3125/3125 [==============================] - 32s 10ms/step - loss: 0.0819 - categorical_accuracy: 0.9611 - val_loss: 0.0843 - val_categorical_accuracy: 0.9593\n",
      "Epoch 98/200\n",
      "3125/3125 [==============================] - 32s 10ms/step - loss: 0.0819 - categorical_accuracy: 0.9611 - val_loss: 0.0847 - val_categorical_accuracy: 0.9592\n",
      "Epoch 99/200\n",
      "3125/3125 [==============================] - 40s 13ms/step - loss: 0.0820 - categorical_accuracy: 0.9610 - val_loss: 0.0844 - val_categorical_accuracy: 0.9592\n",
      "Epoch 100/200\n",
      "3125/3125 [==============================] - 41s 13ms/step - loss: 0.0818 - categorical_accuracy: 0.9610 - val_loss: 0.0843 - val_categorical_accuracy: 0.9592\n",
      "Epoch 101/200\n",
      "3125/3125 [==============================] - 31s 10ms/step - loss: 0.0818 - categorical_accuracy: 0.9610 - val_loss: 0.0844 - val_categorical_accuracy: 0.9594\n",
      "Epoch 102/200\n",
      "3125/3125 [==============================] - 32s 10ms/step - loss: 0.0817 - categorical_accuracy: 0.9610 - val_loss: 0.0847 - val_categorical_accuracy: 0.9593\n",
      "Epoch 103/200\n",
      "3125/3125 [==============================] - 31s 10ms/step - loss: 0.0817 - categorical_accuracy: 0.9611 - val_loss: 0.0852 - val_categorical_accuracy: 0.9590\n",
      "Epoch 104/200\n",
      "3125/3125 [==============================] - 32s 10ms/step - loss: 0.0816 - categorical_accuracy: 0.9611 - val_loss: 0.0844 - val_categorical_accuracy: 0.9594\n",
      "Epoch 105/200\n",
      "3125/3125 [==============================] - 32s 10ms/step - loss: 0.0816 - categorical_accuracy: 0.9610 - val_loss: 0.0844 - val_categorical_accuracy: 0.9593\n",
      "Epoch 106/200\n",
      "3125/3125 [==============================] - 52s 17ms/step - loss: 0.0818 - categorical_accuracy: 0.9611 - val_loss: 0.0844 - val_categorical_accuracy: 0.9594\n",
      "Epoch 107/200\n",
      "3125/3125 [==============================] - 30s 10ms/step - loss: 0.0817 - categorical_accuracy: 0.9612 - val_loss: 0.0852 - val_categorical_accuracy: 0.9589\n",
      "Epoch 108/200\n",
      "3125/3125 [==============================] - 32s 10ms/step - loss: 0.0817 - categorical_accuracy: 0.9611 - val_loss: 0.0844 - val_categorical_accuracy: 0.9593\n",
      "Epoch 109/200\n",
      "3125/3125 [==============================] - 32s 10ms/step - loss: 0.0816 - categorical_accuracy: 0.9611 - val_loss: 0.0848 - val_categorical_accuracy: 0.9589\n",
      "Epoch 110/200\n",
      "3125/3125 [==============================] - 32s 10ms/step - loss: 0.0816 - categorical_accuracy: 0.9611 - val_loss: 0.0840 - val_categorical_accuracy: 0.9594\n",
      "Epoch 111/200\n",
      "3125/3125 [==============================] - 36s 11ms/step - loss: 0.0815 - categorical_accuracy: 0.9611 - val_loss: 0.0846 - val_categorical_accuracy: 0.9591\n",
      "Epoch 112/200\n",
      "3125/3125 [==============================] - 55s 18ms/step - loss: 0.0816 - categorical_accuracy: 0.9610 - val_loss: 0.0841 - val_categorical_accuracy: 0.9595\n",
      "Epoch 113/200\n",
      "3125/3125 [==============================] - 30s 10ms/step - loss: 0.0817 - categorical_accuracy: 0.9611 - val_loss: 0.0846 - val_categorical_accuracy: 0.9593\n",
      "Epoch 114/200\n",
      "3125/3125 [==============================] - 32s 10ms/step - loss: 0.0816 - categorical_accuracy: 0.9611 - val_loss: 0.0838 - val_categorical_accuracy: 0.9594\n",
      "Epoch 115/200\n",
      "3125/3125 [==============================] - 31s 10ms/step - loss: 0.0815 - categorical_accuracy: 0.9610 - val_loss: 0.0848 - val_categorical_accuracy: 0.9590\n",
      "Epoch 116/200\n",
      "3125/3125 [==============================] - 32s 10ms/step - loss: 0.0814 - categorical_accuracy: 0.9613 - val_loss: 0.0846 - val_categorical_accuracy: 0.9589\n",
      "Epoch 117/200\n",
      "3125/3125 [==============================] - 31s 10ms/step - loss: 0.0813 - categorical_accuracy: 0.9612 - val_loss: 0.0849 - val_categorical_accuracy: 0.9592\n",
      "Epoch 118/200\n",
      "3125/3125 [==============================] - 32s 10ms/step - loss: 0.0815 - categorical_accuracy: 0.9611 - val_loss: 0.0844 - val_categorical_accuracy: 0.9594\n",
      "Epoch 119/200\n",
      "3125/3125 [==============================] - 52s 17ms/step - loss: 0.0813 - categorical_accuracy: 0.9611 - val_loss: 0.0845 - val_categorical_accuracy: 0.9592\n",
      "Epoch 120/200\n",
      "3125/3125 [==============================] - 31s 10ms/step - loss: 0.0815 - categorical_accuracy: 0.9612 - val_loss: 0.0844 - val_categorical_accuracy: 0.9592\n",
      "Epoch 121/200\n",
      "3125/3125 [==============================] - 31s 10ms/step - loss: 0.0814 - categorical_accuracy: 0.9612 - val_loss: 0.0844 - val_categorical_accuracy: 0.9592\n",
      "Epoch 122/200\n",
      "3125/3125 [==============================] - 32s 10ms/step - loss: 0.0812 - categorical_accuracy: 0.9613 - val_loss: 0.0840 - val_categorical_accuracy: 0.9593\n",
      "Epoch 123/200\n",
      "3125/3125 [==============================] - 32s 10ms/step - loss: 0.0813 - categorical_accuracy: 0.9611 - val_loss: 0.0844 - val_categorical_accuracy: 0.9590\n",
      "Epoch 124/200\n",
      "3125/3125 [==============================] - 31s 10ms/step - loss: 0.0814 - categorical_accuracy: 0.9611 - val_loss: 0.0841 - val_categorical_accuracy: 0.9592\n",
      "Epoch 125/200\n",
      "3125/3125 [==============================] - 37s 12ms/step - loss: 0.0813 - categorical_accuracy: 0.9612 - val_loss: 0.0842 - val_categorical_accuracy: 0.9593\n",
      "Epoch 126/200\n",
      "3125/3125 [==============================] - 66s 21ms/step - loss: 0.0813 - categorical_accuracy: 0.9612 - val_loss: 0.0845 - val_categorical_accuracy: 0.9594\n",
      "Epoch 127/200\n",
      "3125/3125 [==============================] - 29s 9ms/step - loss: 0.0813 - categorical_accuracy: 0.9611 - val_loss: 0.0842 - val_categorical_accuracy: 0.9593\n",
      "Epoch 128/200\n",
      "3125/3125 [==============================] - 32s 10ms/step - loss: 0.0811 - categorical_accuracy: 0.9613 - val_loss: 0.0845 - val_categorical_accuracy: 0.9592\n",
      "Epoch 129/200\n",
      "3125/3125 [==============================] - 31s 10ms/step - loss: 0.0811 - categorical_accuracy: 0.9612 - val_loss: 0.0840 - val_categorical_accuracy: 0.9595\n",
      "Epoch 130/200\n",
      "3125/3125 [==============================] - 32s 10ms/step - loss: 0.0811 - categorical_accuracy: 0.9612 - val_loss: 0.0840 - val_categorical_accuracy: 0.9593\n",
      "Epoch 131/200\n",
      "3125/3125 [==============================] - 32s 10ms/step - loss: 0.0811 - categorical_accuracy: 0.9612 - val_loss: 0.0842 - val_categorical_accuracy: 0.9595\n",
      "Epoch 132/200\n"
     ]
    },
    {
     "name": "stdout",
     "output_type": "stream",
     "text": [
      "3125/3125 [==============================] - 32s 10ms/step - loss: 0.0812 - categorical_accuracy: 0.9613 - val_loss: 0.0842 - val_categorical_accuracy: 0.9594\n",
      "Epoch 133/200\n",
      "3125/3125 [==============================] - 32s 10ms/step - loss: 0.0812 - categorical_accuracy: 0.9611 - val_loss: 0.0840 - val_categorical_accuracy: 0.9593\n",
      "Epoch 134/200\n",
      "3125/3125 [==============================] - 36s 11ms/step - loss: 0.0811 - categorical_accuracy: 0.9612 - val_loss: 0.0839 - val_categorical_accuracy: 0.9595\n"
     ]
    }
   ],
   "source": [
    "batch_size = 1024\n",
    "epochs = 200\n",
    "\n",
    "# model.compile(loss=\"categorical_crossentropy\", optimizer=\"adam\", metrics=[\"accuracy\"])\n",
    "\n",
    "history = model.fit(train, \n",
    "                    y_pd, \n",
    "                    batch_size=batch_size, \n",
    "                    epochs=epochs, \n",
    "                    callbacks=[early_stopping], \n",
    "                    validation_split=0.2,\n",
    "                    workers=8,\n",
    "                    use_multiprocessing=True,\n",
    "                   )\n"
   ]
  },
  {
   "cell_type": "code",
   "execution_count": 106,
   "metadata": {},
   "outputs": [
    {
     "data": {
      "text/plain": [
       "<matplotlib.axes._subplots.AxesSubplot at 0x7ffaf7b8cdd0>"
      ]
     },
     "execution_count": 106,
     "metadata": {},
     "output_type": "execute_result"
    },
    {
     "data": {
      "image/png": "[encoded data removed]",
      "text/plain": [
       "<Figure size 432x288 with 1 Axes>"
      ]
     },
     "metadata": {
      "needs_background": "light"
     },
     "output_type": "display_data"
    },
    {
     "data": {
      "image/png": "[encoded data removed]",
      "text/plain": [
       "<Figure size 432x288 with 1 Axes>"
      ]
     },
     "metadata": {
      "needs_background": "light"
     },
     "output_type": "display_data"
    }
   ],
   "source": [
    "import pandas as pd\n",
    "history_frame = pd.DataFrame(history.history)\n",
    "history_frame.loc[:, ['loss', 'val_loss']].plot()\n",
    "history_frame.loc[:, ['categorical_accuracy', 'val_categorical_accuracy']].plot()\n",
    "# plt.ylim([0.985, 1.0])"
   ]
  },
  {
   "cell_type": "code",
   "execution_count": 107,
   "metadata": {},
   "outputs": [
    {
     "name": "stdout",
     "output_type": "stream",
     "text": [
      "WARNING:tensorflow:AutoGraph could not transform <function Model.make_predict_function.<locals>.predict_function at 0x7ffaf7a46e60> and will run it as-is.\n",
      "Please report this to the TensorFlow team. When filing the bug, set the verbosity to 10 (on Linux, `export AUTOGRAPH_VERBOSITY=10`) and attach the full output.\n",
      "Cause: 'arguments' object has no attribute 'posonlyargs'\n",
      "To silence this warning, decorate the function with @tf.autograph.experimental.do_not_convert\n",
      "WARNING: AutoGraph could not transform <function Model.make_predict_function.<locals>.predict_function at 0x7ffaf7a46e60> and will run it as-is.\n",
      "Please report this to the TensorFlow team. When filing the bug, set the verbosity to 10 (on Linux, `export AUTOGRAPH_VERBOSITY=10`) and attach the full output.\n",
      "Cause: 'arguments' object has no attribute 'posonlyargs'\n",
      "To silence this warning, decorate the function with @tf.autograph.experimental.do_not_convert\n"
     ]
    }
   ],
   "source": [
    "predictions = model.predict(test)"
   ]
  },
  {
   "cell_type": "code",
   "execution_count": null,
   "metadata": {},
   "outputs": [],
   "source": []
  },
  {
   "cell_type": "code",
   "execution_count": 108,
   "metadata": {},
   "outputs": [
    {
     "data": {
      "text/plain": [
       "array([5.5191215e-08, 9.9998987e-01, 1.0154578e-05, 1.8762932e-12,\n",
       "       1.6157756e-09, 9.0504597e-11], dtype=float32)"
      ]
     },
     "execution_count": 108,
     "metadata": {},
     "output_type": "execute_result"
    }
   ],
   "source": [
    "predictions[0]"
   ]
  },
  {
   "cell_type": "code",
   "execution_count": 112,
   "metadata": {},
   "outputs": [
    {
     "data": {
      "text/plain": [
       "2"
      ]
     },
     "execution_count": 112,
     "metadata": {},
     "output_type": "execute_result"
    }
   ],
   "source": [
    "y_pd.columns.tolist()[predictions[0].argmax()]"
   ]
  },
  {
   "cell_type": "code",
   "execution_count": 113,
   "metadata": {},
   "outputs": [],
   "source": [
    "predictions_cat_indx = predictions.argmax(axis=1)"
   ]
  },
  {
   "cell_type": "code",
   "execution_count": 114,
   "metadata": {},
   "outputs": [
    {
     "data": {
      "text/plain": [
       "array([1, 1, 1, ..., 1, 0, 2])"
      ]
     },
     "execution_count": 114,
     "metadata": {},
     "output_type": "execute_result"
    }
   ],
   "source": [
    "predictions_cat_indx"
   ]
  },
  {
   "cell_type": "code",
   "execution_count": 115,
   "metadata": {},
   "outputs": [],
   "source": [
    "predictions_cat = [y_pd.columns.tolist()[pred] for pred in predictions_cat_indx]"
   ]
  },
  {
   "cell_type": "code",
   "execution_count": 117,
   "metadata": {},
   "outputs": [
    {
     "data": {
      "text/plain": [
       "[2, 2, 2, 2, 2]"
      ]
     },
     "execution_count": 117,
     "metadata": {},
     "output_type": "execute_result"
    }
   ],
   "source": [
    "predictions_cat[:5]"
   ]
  },
  {
   "cell_type": "code",
   "execution_count": null,
   "metadata": {},
   "outputs": [],
   "source": []
  },
  {
   "cell_type": "code",
   "execution_count": 118,
   "metadata": {},
   "outputs": [
    {
     "data": {
      "text/plain": [
       "1000000"
      ]
     },
     "execution_count": 118,
     "metadata": {},
     "output_type": "execute_result"
    }
   ],
   "source": [
    "len(predictions_cat)"
   ]
  },
  {
   "cell_type": "code",
   "execution_count": 119,
   "metadata": {},
   "outputs": [
    {
     "data": {
      "text/plain": [
       "(1000000, 2)"
      ]
     },
     "execution_count": 119,
     "metadata": {},
     "output_type": "execute_result"
    }
   ],
   "source": [
    "sub = pd.DataFrame({'Id': list(range(4000000,5000000)), 'Cover_Type': predictions_cat})\n",
    "sub.shape"
   ]
  },
  {
   "cell_type": "code",
   "execution_count": 120,
   "metadata": {},
   "outputs": [],
   "source": [
    "sub.to_csv(\"data/submission_09_euclidean_dist_and_no_2_soil.csv\", index=False)"
   ]
  },
  {
   "cell_type": "code",
   "execution_count": null,
   "metadata": {},
   "outputs": [],
   "source": []
  },
  {
   "cell_type": "code",
   "execution_count": null,
   "metadata": {},
   "outputs": [],
   "source": []
  },
  {
   "cell_type": "code",
   "execution_count": 30,
   "metadata": {},
   "outputs": [
    {
     "data": {
      "text/plain": [
       "<matplotlib.axes._subplots.AxesSubplot at 0x7f98006ba990>"
      ]
     },
     "execution_count": 30,
     "metadata": {},
     "output_type": "execute_result"
    },
    {
     "data": {
      "image/png": "[encoded data removed]",
      "text/plain": [
       "<Figure size 432x288 with 1 Axes>"
      ]
     },
     "metadata": {
      "needs_background": "light"
     },
     "output_type": "display_data"
    }
   ],
   "source": [
    "sub['Cover_Type'].hist()"
   ]
  },
  {
   "cell_type": "code",
   "execution_count": null,
   "metadata": {},
   "outputs": [],
   "source": []
  }
 ],
 "metadata": {
  "kernelspec": {
   "display_name": "Python 3",
   "language": "python",
   "name": "python3"
  },
  "language_info": {
   "codemirror_mode": {
    "name": "ipython",
    "version": 3
   },
   "file_extension": ".py",
   "mimetype": "text/x-python",
   "name": "python",
   "nbconvert_exporter": "python",
   "pygments_lexer": "ipython3",
   "version": "3.7.4"
  }
 },
 "nbformat": 4,
 "nbformat_minor": 2
}
