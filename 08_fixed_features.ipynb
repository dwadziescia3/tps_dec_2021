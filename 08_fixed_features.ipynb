{
 "cells": [
  {
   "cell_type": "code",
   "execution_count": 1,
   "metadata": {},
   "outputs": [
    {
     "name": "stdout",
     "output_type": "stream",
     "text": [
      "2.7.0\n",
      "2.7.0\n"
     ]
    }
   ],
   "source": [
    "import sys\n",
    "assert sys.version_info >= (3, 5)\n",
    "\n",
    "import sklearn\n",
    "assert sklearn.__version__ >= \"0.20\"\n",
    "\n",
    "import numpy as np\n",
    "import os\n",
    "\n",
    "import matplotlib as mpl\n",
    "import matplotlib.pyplot as plt\n",
    "mpl.rc('axes', labelsize=14)\n",
    "mpl.rc('xtick', labelsize=12)\n",
    "mpl.rc('ytick', labelsize=12)\n",
    "\n",
    "import warnings\n",
    "warnings.filterwarnings(action=\"ignore\", message=\"^internal gelsd\")\n",
    "\n",
    "import os, warnings\n",
    "import matplotlib.pyplot as plt\n",
    "from matplotlib import gridspec\n",
    "\n",
    "import numpy as np\n",
    "import tensorflow as tf\n",
    "from tensorflow import keras\n",
    "# from keras.utils import to_categorical\n",
    "from tensorflow.keras.utils import to_categorical\n",
    "from tensorflow.keras import layers\n",
    "print(keras.__version__)\n",
    "import tensorflow\n",
    "print(tensorflow.__version__)\n",
    "from tensorflow.keras.layers.experimental import preprocessing"
   ]
  },
  {
   "cell_type": "code",
   "execution_count": 2,
   "metadata": {},
   "outputs": [
    {
     "name": "stderr",
     "output_type": "stream",
     "text": [
      "/home/marek/anaconda3/lib/python3.7/site-packages/numpy/lib/arraysetops.py:568: FutureWarning: elementwise comparison failed; returning scalar instead, but in the future will perform elementwise comparison\n",
      "  mask |= (ar1 == a)\n"
     ]
    }
   ],
   "source": [
    "import pandas as pd\n",
    "\n",
    "def load_data(data_path='data'):\n",
    "    train_csv_path = os.path.join(data_path, \"train.csv\")\n",
    "    test_csv_path = os.path.join(data_path, \"test.csv\")\n",
    "    return pd.read_csv(train_csv_path, index_col='Id'), pd.read_csv(test_csv_path, index_col='Id')\n",
    "\n",
    "train, test = load_data()"
   ]
  },
  {
   "cell_type": "code",
   "execution_count": 3,
   "metadata": {},
   "outputs": [],
   "source": [
    "num_classes = train['Cover_Type'].nunique()\n",
    "input_shape = (train.shape[1]-1)"
   ]
  },
  {
   "cell_type": "code",
   "execution_count": 4,
   "metadata": {},
   "outputs": [
    {
     "data": {
      "text/plain": [
       "7"
      ]
     },
     "execution_count": 4,
     "metadata": {},
     "output_type": "execute_result"
    }
   ],
   "source": [
    "train['Cover_Type'].nunique()"
   ]
  },
  {
   "cell_type": "code",
   "execution_count": 5,
   "metadata": {},
   "outputs": [],
   "source": [
    "y_train = train['Cover_Type']"
   ]
  },
  {
   "cell_type": "code",
   "execution_count": 6,
   "metadata": {},
   "outputs": [],
   "source": [
    "train.drop('Cover_Type', axis=1, inplace=True)"
   ]
  },
  {
   "cell_type": "code",
   "execution_count": 7,
   "metadata": {},
   "outputs": [
    {
     "data": {
      "text/plain": [
       "(4000000, 54)"
      ]
     },
     "execution_count": 7,
     "metadata": {},
     "output_type": "execute_result"
    }
   ],
   "source": [
    "train.shape"
   ]
  },
  {
   "cell_type": "code",
   "execution_count": 8,
   "metadata": {},
   "outputs": [
    {
     "data": {
      "text/plain": [
       "(1000000, 54)"
      ]
     },
     "execution_count": 8,
     "metadata": {},
     "output_type": "execute_result"
    }
   ],
   "source": [
    "test.shape"
   ]
  },
  {
   "cell_type": "code",
   "execution_count": 9,
   "metadata": {},
   "outputs": [],
   "source": [
    "y_binary = to_categorical(y_train.values-1)"
   ]
  },
  {
   "cell_type": "code",
   "execution_count": 10,
   "metadata": {},
   "outputs": [
    {
     "data": {
      "text/plain": [
       "(4000000, 7)"
      ]
     },
     "execution_count": 10,
     "metadata": {},
     "output_type": "execute_result"
    }
   ],
   "source": [
    "y_binary.shape"
   ]
  },
  {
   "cell_type": "code",
   "execution_count": 11,
   "metadata": {},
   "outputs": [
    {
     "data": {
      "text/plain": [
       "54"
      ]
     },
     "execution_count": 11,
     "metadata": {},
     "output_type": "execute_result"
    }
   ],
   "source": [
    "input_shape"
   ]
  },
  {
   "cell_type": "code",
   "execution_count": null,
   "metadata": {},
   "outputs": [],
   "source": []
  },
  {
   "cell_type": "code",
   "execution_count": 12,
   "metadata": {},
   "outputs": [
    {
     "data": {
      "text/plain": [
       "Index(['Elevation', 'Aspect', 'Slope', 'Horizontal_Distance_To_Hydrology',\n",
       "       'Vertical_Distance_To_Hydrology', 'Horizontal_Distance_To_Roadways',\n",
       "       'Hillshade_9am', 'Hillshade_Noon', 'Hillshade_3pm',\n",
       "       'Horizontal_Distance_To_Fire_Points', 'Wilderness_Area1',\n",
       "       'Wilderness_Area2', 'Wilderness_Area3', 'Wilderness_Area4',\n",
       "       'Soil_Type1', 'Soil_Type2', 'Soil_Type3', 'Soil_Type4', 'Soil_Type5',\n",
       "       'Soil_Type6', 'Soil_Type7', 'Soil_Type8', 'Soil_Type9', 'Soil_Type10',\n",
       "       'Soil_Type11', 'Soil_Type12', 'Soil_Type13', 'Soil_Type14',\n",
       "       'Soil_Type15', 'Soil_Type16', 'Soil_Type17', 'Soil_Type18',\n",
       "       'Soil_Type19', 'Soil_Type20', 'Soil_Type21', 'Soil_Type22',\n",
       "       'Soil_Type23', 'Soil_Type24', 'Soil_Type25', 'Soil_Type26',\n",
       "       'Soil_Type27', 'Soil_Type28', 'Soil_Type29', 'Soil_Type30',\n",
       "       'Soil_Type31', 'Soil_Type32', 'Soil_Type33', 'Soil_Type34',\n",
       "       'Soil_Type35', 'Soil_Type36', 'Soil_Type37', 'Soil_Type38',\n",
       "       'Soil_Type39', 'Soil_Type40'],\n",
       "      dtype='object')"
      ]
     },
     "execution_count": 12,
     "metadata": {},
     "output_type": "execute_result"
    }
   ],
   "source": [
    "train.columns"
   ]
  },
  {
   "cell_type": "code",
   "execution_count": 17,
   "metadata": {},
   "outputs": [],
   "source": [
    "train.loc[train.Aspect<0, 'Aspect'] = train.loc[train.Aspect<0, 'Aspect'] + 360.0"
   ]
  },
  {
   "cell_type": "code",
   "execution_count": 20,
   "metadata": {},
   "outputs": [],
   "source": [
    "train.loc[train.Aspect>360, 'Aspect'] = train.loc[train.Aspect>360.0, 'Aspect'] - 360.0"
   ]
  },
  {
   "cell_type": "code",
   "execution_count": 22,
   "metadata": {},
   "outputs": [],
   "source": [
    "test.loc[test.Aspect<0, 'Aspect'] = test.loc[test.Aspect<0, 'Aspect'] + 360.0\n",
    "test.loc[test.Aspect>360, 'Aspect'] = test.loc[test.Aspect>360.0, 'Aspect'] - 360.0"
   ]
  },
  {
   "cell_type": "code",
   "execution_count": 27,
   "metadata": {},
   "outputs": [],
   "source": [
    "train.loc[train.Hillshade_9am<0, 'Hillshade_9am'] = 0\n",
    "train.loc[train.Hillshade_9am>255, 'Hillshade_9am'] = 255\n",
    "train.loc[train.Hillshade_Noon<0, 'Hillshade_Noon'] = 0\n",
    "train.loc[train.Hillshade_Noon>255, 'Hillshade_Noon'] = 255\n",
    "train.loc[train.Hillshade_3pm<0, 'Hillshade_3pm'] = 0\n",
    "train.loc[train.Hillshade_3pm>255, 'Hillshade_3pm'] = 255\n",
    "\n",
    "test.loc[test.Hillshade_9am<0, 'Hillshade_9am'] = 0\n",
    "test.loc[test.Hillshade_9am>255, 'Hillshade_9am'] = 255\n",
    "test.loc[test.Hillshade_Noon<0, 'Hillshade_Noon'] = 0\n",
    "test.loc[test.Hillshade_Noon>255, 'Hillshade_Noon'] = 255\n",
    "test.loc[test.Hillshade_3pm<0, 'Hillshade_3pm'] = 0\n",
    "test.loc[test.Hillshade_3pm>255, 'Hillshade_3pm'] = 255"
   ]
  },
  {
   "cell_type": "code",
   "execution_count": null,
   "metadata": {},
   "outputs": [],
   "source": []
  },
  {
   "cell_type": "code",
   "execution_count": 29,
   "metadata": {},
   "outputs": [],
   "source": [
    "from sklearn.preprocessing import RobustScaler"
   ]
  },
  {
   "cell_type": "code",
   "execution_count": 30,
   "metadata": {},
   "outputs": [],
   "source": [
    "transformer = RobustScaler().fit(train)"
   ]
  },
  {
   "cell_type": "code",
   "execution_count": 31,
   "metadata": {},
   "outputs": [],
   "source": [
    "train = transformer.transform(train)"
   ]
  },
  {
   "cell_type": "code",
   "execution_count": 32,
   "metadata": {},
   "outputs": [],
   "source": [
    "test = transformer.transform(test)"
   ]
  },
  {
   "cell_type": "code",
   "execution_count": null,
   "metadata": {},
   "outputs": [],
   "source": []
  },
  {
   "cell_type": "code",
   "execution_count": null,
   "metadata": {},
   "outputs": [],
   "source": []
  },
  {
   "cell_type": "code",
   "execution_count": 33,
   "metadata": {},
   "outputs": [],
   "source": [
    "model = keras.Sequential([\n",
    "    layers.InputLayer(input_shape=[input_shape]),\n",
    "    \n",
    "    layers.Dense(256, activation=\"relu\"),\n",
    "    layers.BatchNormalization(),\n",
    "    layers.Dropout(0.3),\n",
    "    \n",
    "    layers.Dense(256, activation=\"relu\"),\n",
    "    layers.BatchNormalization(),\n",
    "    layers.Dropout(0.3),\n",
    "    \n",
    "    layers.Dense(256, activation=\"relu\"),\n",
    "    layers.BatchNormalization(),\n",
    "    layers.Dropout(0.3),\n",
    "    \n",
    "    layers.Dense(num_classes, activation='softmax'),\n",
    "])\n"
   ]
  },
  {
   "cell_type": "code",
   "execution_count": 34,
   "metadata": {},
   "outputs": [
    {
     "name": "stdout",
     "output_type": "stream",
     "text": [
      "Model: \"sequential\"\n",
      "_________________________________________________________________\n",
      " Layer (type)                Output Shape              Param #   \n",
      "=================================================================\n",
      " dense (Dense)               (None, 256)               14080     \n",
      "                                                                 \n",
      " batch_normalization (BatchN  (None, 256)              1024      \n",
      " ormalization)                                                   \n",
      "                                                                 \n",
      " dropout (Dropout)           (None, 256)               0         \n",
      "                                                                 \n",
      " dense_1 (Dense)             (None, 256)               65792     \n",
      "                                                                 \n",
      " batch_normalization_1 (Batc  (None, 256)              1024      \n",
      " hNormalization)                                                 \n",
      "                                                                 \n",
      " dropout_1 (Dropout)         (None, 256)               0         \n",
      "                                                                 \n",
      " dense_2 (Dense)             (None, 256)               65792     \n",
      "                                                                 \n",
      " batch_normalization_2 (Batc  (None, 256)              1024      \n",
      " hNormalization)                                                 \n",
      "                                                                 \n",
      " dropout_2 (Dropout)         (None, 256)               0         \n",
      "                                                                 \n",
      " dense_3 (Dense)             (None, 7)                 1799      \n",
      "                                                                 \n",
      "=================================================================\n",
      "Total params: 150,535\n",
      "Trainable params: 148,999\n",
      "Non-trainable params: 1,536\n",
      "_________________________________________________________________\n"
     ]
    }
   ],
   "source": [
    "model.summary()"
   ]
  },
  {
   "cell_type": "code",
   "execution_count": 35,
   "metadata": {},
   "outputs": [],
   "source": [
    "model.compile(\n",
    "    optimizer=tf.keras.optimizers.Adam(epsilon=0.01),\n",
    "    loss='categorical_crossentropy',\n",
    "    metrics=['categorical_accuracy'],\n",
    ")"
   ]
  },
  {
   "cell_type": "code",
   "execution_count": 36,
   "metadata": {},
   "outputs": [],
   "source": [
    "from keras.callbacks import EarlyStopping\n",
    "\n",
    "early_stopping = EarlyStopping(min_delta=0.0005, patience=4, restore_best_weights=True)"
   ]
  },
  {
   "cell_type": "code",
   "execution_count": 37,
   "metadata": {
    "scrolled": true
   },
   "outputs": [
    {
     "name": "stdout",
     "output_type": "stream",
     "text": [
      "Epoch 1/50\n",
      "WARNING:tensorflow:AutoGraph could not transform <function Model.make_train_function.<locals>.train_function at 0x7fc1b030e290> and will run it as-is.\n",
      "Please report this to the TensorFlow team. When filing the bug, set the verbosity to 10 (on Linux, `export AUTOGRAPH_VERBOSITY=10`) and attach the full output.\n",
      "Cause: 'arguments' object has no attribute 'posonlyargs'\n",
      "To silence this warning, decorate the function with @tf.autograph.experimental.do_not_convert\n",
      "WARNING: AutoGraph could not transform <function Model.make_train_function.<locals>.train_function at 0x7fc1b030e290> and will run it as-is.\n",
      "Please report this to the TensorFlow team. When filing the bug, set the verbosity to 10 (on Linux, `export AUTOGRAPH_VERBOSITY=10`) and attach the full output.\n",
      "Cause: 'arguments' object has no attribute 'posonlyargs'\n",
      "To silence this warning, decorate the function with @tf.autograph.experimental.do_not_convert\n",
      "3124/3125 [============================>.] - ETA: 0s - loss: 0.2823 - categorical_accuracy: 0.9025WARNING:tensorflow:AutoGraph could not transform <function Model.make_test_function.<locals>.test_function at 0x7fc19876dd40> and will run it as-is.\n",
      "Please report this to the TensorFlow team. When filing the bug, set the verbosity to 10 (on Linux, `export AUTOGRAPH_VERBOSITY=10`) and attach the full output.\n",
      "Cause: 'arguments' object has no attribute 'posonlyargs'\n",
      "To silence this warning, decorate the function with @tf.autograph.experimental.do_not_convert\n",
      "WARNING: AutoGraph could not transform <function Model.make_test_function.<locals>.test_function at 0x7fc19876dd40> and will run it as-is.\n",
      "Please report this to the TensorFlow team. When filing the bug, set the verbosity to 10 (on Linux, `export AUTOGRAPH_VERBOSITY=10`) and attach the full output.\n",
      "Cause: 'arguments' object has no attribute 'posonlyargs'\n",
      "To silence this warning, decorate the function with @tf.autograph.experimental.do_not_convert\n",
      "3125/3125 [==============================] - 53s 17ms/step - loss: 0.2822 - categorical_accuracy: 0.9025 - val_loss: 0.1553 - val_categorical_accuracy: 0.9410\n",
      "Epoch 2/50\n",
      "3125/3125 [==============================] - 52s 17ms/step - loss: 0.1538 - categorical_accuracy: 0.9387 - val_loss: 0.1345 - val_categorical_accuracy: 0.9470\n",
      "Epoch 3/50\n",
      "3125/3125 [==============================] - 51s 16ms/step - loss: 0.1360 - categorical_accuracy: 0.9446 - val_loss: 0.1268 - val_categorical_accuracy: 0.9483\n",
      "Epoch 4/50\n",
      "3125/3125 [==============================] - 52s 17ms/step - loss: 0.1280 - categorical_accuracy: 0.9472 - val_loss: 0.1247 - val_categorical_accuracy: 0.9487\n",
      "Epoch 5/50\n",
      "3125/3125 [==============================] - 36s 12ms/step - loss: 0.1230 - categorical_accuracy: 0.9488 - val_loss: 0.1183 - val_categorical_accuracy: 0.9508\n",
      "Epoch 6/50\n",
      "3125/3125 [==============================] - 38s 12ms/step - loss: 0.1192 - categorical_accuracy: 0.9501 - val_loss: 0.1160 - val_categorical_accuracy: 0.9514\n",
      "Epoch 7/50\n",
      "3125/3125 [==============================] - 41s 13ms/step - loss: 0.1164 - categorical_accuracy: 0.9510 - val_loss: 0.1139 - val_categorical_accuracy: 0.9520\n",
      "Epoch 8/50\n",
      "3125/3125 [==============================] - 39s 12ms/step - loss: 0.1142 - categorical_accuracy: 0.9517 - val_loss: 0.1113 - val_categorical_accuracy: 0.9528\n",
      "Epoch 9/50\n",
      "3125/3125 [==============================] - 33s 11ms/step - loss: 0.1126 - categorical_accuracy: 0.9523 - val_loss: 0.1105 - val_categorical_accuracy: 0.9530\n",
      "Epoch 10/50\n",
      "3125/3125 [==============================] - 32s 10ms/step - loss: 0.1110 - categorical_accuracy: 0.9529 - val_loss: 0.1083 - val_categorical_accuracy: 0.9540\n",
      "Epoch 11/50\n",
      "3125/3125 [==============================] - 32s 10ms/step - loss: 0.1096 - categorical_accuracy: 0.9534 - val_loss: 0.1095 - val_categorical_accuracy: 0.9531\n",
      "Epoch 12/50\n",
      "3125/3125 [==============================] - 40s 13ms/step - loss: 0.1085 - categorical_accuracy: 0.9537 - val_loss: 0.1063 - val_categorical_accuracy: 0.9546\n",
      "Epoch 13/50\n",
      "3125/3125 [==============================] - 35s 11ms/step - loss: 0.1075 - categorical_accuracy: 0.9539 - val_loss: 0.1062 - val_categorical_accuracy: 0.9544\n",
      "Epoch 14/50\n",
      "3125/3125 [==============================] - 34s 11ms/step - loss: 0.1068 - categorical_accuracy: 0.9542 - val_loss: 0.1047 - val_categorical_accuracy: 0.9549\n",
      "Epoch 15/50\n",
      "3125/3125 [==============================] - 33s 11ms/step - loss: 0.1058 - categorical_accuracy: 0.9546 - val_loss: 0.1036 - val_categorical_accuracy: 0.9550\n",
      "Epoch 16/50\n",
      "3125/3125 [==============================] - 33s 10ms/step - loss: 0.1050 - categorical_accuracy: 0.9548 - val_loss: 0.1042 - val_categorical_accuracy: 0.9548\n",
      "Epoch 17/50\n",
      "3125/3125 [==============================] - 32s 10ms/step - loss: 0.1044 - categorical_accuracy: 0.9551 - val_loss: 0.1040 - val_categorical_accuracy: 0.9547\n",
      "Epoch 18/50\n",
      "3125/3125 [==============================] - 32s 10ms/step - loss: 0.1036 - categorical_accuracy: 0.9552 - val_loss: 0.1024 - val_categorical_accuracy: 0.9554\n",
      "Epoch 19/50\n",
      "3125/3125 [==============================] - 37s 12ms/step - loss: 0.1030 - categorical_accuracy: 0.9555 - val_loss: 0.1013 - val_categorical_accuracy: 0.9555\n",
      "Epoch 20/50\n",
      "3125/3125 [==============================] - 33s 11ms/step - loss: 0.1026 - categorical_accuracy: 0.9557 - val_loss: 0.1012 - val_categorical_accuracy: 0.9556\n",
      "Epoch 21/50\n",
      "3125/3125 [==============================] - 35s 11ms/step - loss: 0.1019 - categorical_accuracy: 0.9558 - val_loss: 0.1003 - val_categorical_accuracy: 0.9558\n",
      "Epoch 22/50\n",
      "3125/3125 [==============================] - 37s 12ms/step - loss: 0.1014 - categorical_accuracy: 0.9559 - val_loss: 0.1005 - val_categorical_accuracy: 0.9558\n",
      "Epoch 23/50\n",
      "3125/3125 [==============================] - 34s 11ms/step - loss: 0.1011 - categorical_accuracy: 0.9560 - val_loss: 0.0995 - val_categorical_accuracy: 0.9561\n",
      "Epoch 24/50\n",
      "3125/3125 [==============================] - 52s 17ms/step - loss: 0.1004 - categorical_accuracy: 0.9562 - val_loss: 0.0997 - val_categorical_accuracy: 0.9559\n",
      "Epoch 25/50\n",
      "3125/3125 [==============================] - 52s 17ms/step - loss: 0.1001 - categorical_accuracy: 0.9563 - val_loss: 0.0993 - val_categorical_accuracy: 0.9560\n",
      "Epoch 26/50\n",
      "3125/3125 [==============================] - 32s 10ms/step - loss: 0.1000 - categorical_accuracy: 0.9563 - val_loss: 0.0991 - val_categorical_accuracy: 0.9559\n",
      "Epoch 27/50\n",
      "3125/3125 [==============================] - 32s 10ms/step - loss: 0.0993 - categorical_accuracy: 0.9566 - val_loss: 0.0981 - val_categorical_accuracy: 0.9564\n",
      "Epoch 28/50\n",
      "3125/3125 [==============================] - 33s 11ms/step - loss: 0.0989 - categorical_accuracy: 0.9567 - val_loss: 0.0989 - val_categorical_accuracy: 0.9561\n",
      "Epoch 29/50\n",
      "3125/3125 [==============================] - 34s 11ms/step - loss: 0.0984 - categorical_accuracy: 0.9569 - val_loss: 0.0980 - val_categorical_accuracy: 0.9563\n",
      "Epoch 30/50\n",
      "3125/3125 [==============================] - 49s 16ms/step - loss: 0.0983 - categorical_accuracy: 0.9568 - val_loss: 0.0971 - val_categorical_accuracy: 0.9567\n",
      "Epoch 31/50\n",
      "3125/3125 [==============================] - 38s 12ms/step - loss: 0.0979 - categorical_accuracy: 0.9569 - val_loss: 0.0976 - val_categorical_accuracy: 0.9564\n",
      "Epoch 32/50\n",
      "3125/3125 [==============================] - 31s 10ms/step - loss: 0.0976 - categorical_accuracy: 0.9570 - val_loss: 0.0974 - val_categorical_accuracy: 0.9563\n",
      "Epoch 33/50\n",
      "3125/3125 [==============================] - 30s 10ms/step - loss: 0.0972 - categorical_accuracy: 0.9572 - val_loss: 0.0967 - val_categorical_accuracy: 0.9566\n",
      "Epoch 34/50\n",
      "3125/3125 [==============================] - 31s 10ms/step - loss: 0.0968 - categorical_accuracy: 0.9572 - val_loss: 0.0971 - val_categorical_accuracy: 0.9565\n"
     ]
    }
   ],
   "source": [
    "batch_size = 1024\n",
    "epochs = 50\n",
    "\n",
    "# model.compile(loss=\"categorical_crossentropy\", optimizer=\"adam\", metrics=[\"accuracy\"])\n",
    "\n",
    "history = model.fit(train, \n",
    "                    y_binary, \n",
    "                    batch_size=batch_size, \n",
    "                    epochs=epochs, \n",
    "                    callbacks=[early_stopping], \n",
    "                    validation_split=0.2,\n",
    "                    workers=8,\n",
    "                    use_multiprocessing=True,\n",
    "                   )\n"
   ]
  },
  {
   "cell_type": "code",
   "execution_count": 38,
   "metadata": {},
   "outputs": [
    {
     "name": "stdout",
     "output_type": "stream",
     "text": [
      "Epoch 1/50\n",
      "3125/3125 [==============================] - 33s 11ms/step - loss: 0.0979 - categorical_accuracy: 0.9569 - val_loss: 0.0975 - val_categorical_accuracy: 0.9565\n",
      "Epoch 2/50\n",
      "3125/3125 [==============================] - 38s 12ms/step - loss: 0.0977 - categorical_accuracy: 0.9571 - val_loss: 0.0973 - val_categorical_accuracy: 0.9565\n",
      "Epoch 3/50\n",
      "3125/3125 [==============================] - 38s 12ms/step - loss: 0.0971 - categorical_accuracy: 0.9571 - val_loss: 0.0969 - val_categorical_accuracy: 0.9567\n",
      "Epoch 4/50\n",
      "3125/3125 [==============================] - 37s 12ms/step - loss: 0.0970 - categorical_accuracy: 0.9572 - val_loss: 0.0965 - val_categorical_accuracy: 0.9568\n",
      "Epoch 5/50\n",
      "3125/3125 [==============================] - 61s 19ms/step - loss: 0.0967 - categorical_accuracy: 0.9573 - val_loss: 0.0972 - val_categorical_accuracy: 0.9563\n",
      "Epoch 6/50\n",
      "3125/3125 [==============================] - 39s 12ms/step - loss: 0.0963 - categorical_accuracy: 0.9574 - val_loss: 0.0962 - val_categorical_accuracy: 0.9568\n",
      "Epoch 7/50\n",
      "3125/3125 [==============================] - 32s 10ms/step - loss: 0.0960 - categorical_accuracy: 0.9576 - val_loss: 0.0958 - val_categorical_accuracy: 0.9570\n",
      "Epoch 8/50\n",
      "3125/3125 [==============================] - 32s 10ms/step - loss: 0.0961 - categorical_accuracy: 0.9574 - val_loss: 0.0958 - val_categorical_accuracy: 0.9570\n",
      "Epoch 9/50\n",
      "3125/3125 [==============================] - 33s 11ms/step - loss: 0.0956 - categorical_accuracy: 0.9576 - val_loss: 0.0951 - val_categorical_accuracy: 0.9571\n",
      "Epoch 10/50\n",
      "3125/3125 [==============================] - 61s 20ms/step - loss: 0.0953 - categorical_accuracy: 0.9577 - val_loss: 0.0956 - val_categorical_accuracy: 0.9570\n",
      "Epoch 11/50\n",
      "3125/3125 [==============================] - 32s 10ms/step - loss: 0.0952 - categorical_accuracy: 0.9578 - val_loss: 0.0946 - val_categorical_accuracy: 0.9573\n",
      "Epoch 12/50\n",
      "3125/3125 [==============================] - 32s 10ms/step - loss: 0.0947 - categorical_accuracy: 0.9578 - val_loss: 0.0947 - val_categorical_accuracy: 0.9572\n",
      "Epoch 13/50\n",
      "3125/3125 [==============================] - 32s 10ms/step - loss: 0.0946 - categorical_accuracy: 0.9578 - val_loss: 0.0946 - val_categorical_accuracy: 0.9572\n"
     ]
    }
   ],
   "source": [
    "batch_size = 1024\n",
    "epochs = 50\n",
    "\n",
    "# model.compile(loss=\"categorical_crossentropy\", optimizer=\"adam\", metrics=[\"accuracy\"])\n",
    "\n",
    "history = model.fit(train, \n",
    "                    y_binary, \n",
    "                    batch_size=batch_size, \n",
    "                    epochs=epochs, \n",
    "                    callbacks=[early_stopping], \n",
    "                    validation_split=0.2,\n",
    "                    workers=8,\n",
    "                    use_multiprocessing=True,\n",
    "                   )\n"
   ]
  },
  {
   "cell_type": "code",
   "execution_count": 39,
   "metadata": {},
   "outputs": [
    {
     "data": {
      "text/plain": [
       "<matplotlib.axes._subplots.AxesSubplot at 0x7fc198126710>"
      ]
     },
     "execution_count": 39,
     "metadata": {},
     "output_type": "execute_result"
    },
    {
     "data": {
      "image/png": "[encoded data removed]",
      "text/plain": [
       "<Figure size 432x288 with 1 Axes>"
      ]
     },
     "metadata": {
      "needs_background": "light"
     },
     "output_type": "display_data"
    },
    {
     "data": {
      "image/png": "[encoded data removed]",
      "text/plain": [
       "<Figure size 432x288 with 1 Axes>"
      ]
     },
     "metadata": {
      "needs_background": "light"
     },
     "output_type": "display_data"
    }
   ],
   "source": [
    "import pandas as pd\n",
    "history_frame = pd.DataFrame(history.history)\n",
    "history_frame.loc[:, ['loss', 'val_loss']].plot()\n",
    "history_frame.loc[:, ['categorical_accuracy', 'val_categorical_accuracy']].plot()\n",
    "# plt.ylim([0.985, 1.0])"
   ]
  },
  {
   "cell_type": "code",
   "execution_count": 47,
   "metadata": {},
   "outputs": [],
   "source": [
    "early_stopping = EarlyStopping(min_delta=0.0005, patience=10, restore_best_weights=True)"
   ]
  },
  {
   "cell_type": "code",
   "execution_count": 48,
   "metadata": {
    "scrolled": true
   },
   "outputs": [
    {
     "name": "stdout",
     "output_type": "stream",
     "text": [
      "Epoch 1/50\n",
      "3125/3125 [==============================] - 30s 9ms/step - loss: 0.0953 - categorical_accuracy: 0.9577 - val_loss: 0.0947 - val_categorical_accuracy: 0.9574\n",
      "Epoch 2/50\n",
      "3125/3125 [==============================] - 31s 10ms/step - loss: 0.0951 - categorical_accuracy: 0.9577 - val_loss: 0.0946 - val_categorical_accuracy: 0.9571\n",
      "Epoch 3/50\n",
      "3125/3125 [==============================] - 31s 10ms/step - loss: 0.0950 - categorical_accuracy: 0.9577 - val_loss: 0.0945 - val_categorical_accuracy: 0.9572\n",
      "Epoch 4/50\n",
      "3125/3125 [==============================] - 31s 10ms/step - loss: 0.0946 - categorical_accuracy: 0.9579 - val_loss: 0.0947 - val_categorical_accuracy: 0.9572\n",
      "Epoch 5/50\n",
      "3125/3125 [==============================] - 32s 10ms/step - loss: 0.0943 - categorical_accuracy: 0.9580 - val_loss: 0.0943 - val_categorical_accuracy: 0.9571\n",
      "Epoch 6/50\n",
      "3125/3125 [==============================] - 31s 10ms/step - loss: 0.0942 - categorical_accuracy: 0.9580 - val_loss: 0.0948 - val_categorical_accuracy: 0.9572\n",
      "Epoch 7/50\n",
      "3125/3125 [==============================] - 31s 10ms/step - loss: 0.0939 - categorical_accuracy: 0.9581 - val_loss: 0.0937 - val_categorical_accuracy: 0.9574\n",
      "Epoch 8/50\n",
      "3125/3125 [==============================] - 31s 10ms/step - loss: 0.0938 - categorical_accuracy: 0.9582 - val_loss: 0.0941 - val_categorical_accuracy: 0.9574\n",
      "Epoch 9/50\n",
      "3125/3125 [==============================] - 32s 10ms/step - loss: 0.0937 - categorical_accuracy: 0.9582 - val_loss: 0.0935 - val_categorical_accuracy: 0.9576\n",
      "Epoch 10/50\n",
      "3125/3125 [==============================] - 32s 10ms/step - loss: 0.0935 - categorical_accuracy: 0.9582 - val_loss: 0.0930 - val_categorical_accuracy: 0.9576\n",
      "Epoch 11/50\n",
      "3125/3125 [==============================] - 32s 10ms/step - loss: 0.0933 - categorical_accuracy: 0.9582 - val_loss: 0.0936 - val_categorical_accuracy: 0.9577\n",
      "Epoch 12/50\n",
      "3125/3125 [==============================] - 33s 10ms/step - loss: 0.0931 - categorical_accuracy: 0.9584 - val_loss: 0.0935 - val_categorical_accuracy: 0.9575\n",
      "Epoch 13/50\n",
      "3125/3125 [==============================] - 33s 11ms/step - loss: 0.0929 - categorical_accuracy: 0.9583 - val_loss: 0.0930 - val_categorical_accuracy: 0.9575\n",
      "Epoch 14/50\n",
      "3125/3125 [==============================] - 34s 11ms/step - loss: 0.0927 - categorical_accuracy: 0.9584 - val_loss: 0.0930 - val_categorical_accuracy: 0.9576\n",
      "Epoch 15/50\n",
      "3125/3125 [==============================] - 35s 11ms/step - loss: 0.0927 - categorical_accuracy: 0.9584 - val_loss: 0.0928 - val_categorical_accuracy: 0.9577\n",
      "Epoch 16/50\n",
      "3125/3125 [==============================] - 32s 10ms/step - loss: 0.0923 - categorical_accuracy: 0.9585 - val_loss: 0.0928 - val_categorical_accuracy: 0.9579\n",
      "Epoch 17/50\n",
      "3125/3125 [==============================] - 36s 11ms/step - loss: 0.0923 - categorical_accuracy: 0.9585 - val_loss: 0.0931 - val_categorical_accuracy: 0.9576\n",
      "Epoch 18/50\n",
      "3125/3125 [==============================] - 40s 13ms/step - loss: 0.0920 - categorical_accuracy: 0.9585 - val_loss: 0.0924 - val_categorical_accuracy: 0.9577\n",
      "Epoch 19/50\n",
      "3125/3125 [==============================] - 50s 16ms/step - loss: 0.0919 - categorical_accuracy: 0.9586 - val_loss: 0.0917 - val_categorical_accuracy: 0.9581\n",
      "Epoch 20/50\n",
      "3125/3125 [==============================] - 32s 10ms/step - loss: 0.0919 - categorical_accuracy: 0.9585 - val_loss: 0.0920 - val_categorical_accuracy: 0.9578\n",
      "Epoch 21/50\n",
      "3125/3125 [==============================] - 32s 10ms/step - loss: 0.0917 - categorical_accuracy: 0.9586 - val_loss: 0.0926 - val_categorical_accuracy: 0.9579\n",
      "Epoch 22/50\n",
      "3125/3125 [==============================] - 33s 10ms/step - loss: 0.0915 - categorical_accuracy: 0.9587 - val_loss: 0.0917 - val_categorical_accuracy: 0.9579\n",
      "Epoch 23/50\n",
      "3125/3125 [==============================] - 60s 19ms/step - loss: 0.0915 - categorical_accuracy: 0.9587 - val_loss: 0.0920 - val_categorical_accuracy: 0.9579\n",
      "Epoch 24/50\n",
      "3125/3125 [==============================] - 52s 17ms/step - loss: 0.0912 - categorical_accuracy: 0.9588 - val_loss: 0.0919 - val_categorical_accuracy: 0.9581\n",
      "Epoch 25/50\n",
      "3125/3125 [==============================] - 35s 11ms/step - loss: 0.0911 - categorical_accuracy: 0.9589 - val_loss: 0.0919 - val_categorical_accuracy: 0.9578\n",
      "Epoch 26/50\n",
      "3125/3125 [==============================] - 33s 11ms/step - loss: 0.0910 - categorical_accuracy: 0.9588 - val_loss: 0.0921 - val_categorical_accuracy: 0.9579\n",
      "Epoch 27/50\n",
      "3125/3125 [==============================] - 59s 19ms/step - loss: 0.0908 - categorical_accuracy: 0.9590 - val_loss: 0.0918 - val_categorical_accuracy: 0.9579\n",
      "Epoch 28/50\n",
      "3125/3125 [==============================] - 40s 13ms/step - loss: 0.0907 - categorical_accuracy: 0.9589 - val_loss: 0.0917 - val_categorical_accuracy: 0.9580\n",
      "Epoch 29/50\n",
      "3125/3125 [==============================] - 35s 11ms/step - loss: 0.0905 - categorical_accuracy: 0.9589 - val_loss: 0.0916 - val_categorical_accuracy: 0.9580\n"
     ]
    }
   ],
   "source": [
    "batch_size = 1024\n",
    "epochs = 50\n",
    "\n",
    "# model.compile(loss=\"categorical_crossentropy\", optimizer=\"adam\", metrics=[\"accuracy\"])\n",
    "\n",
    "history = model.fit(train, \n",
    "                    y_binary, \n",
    "                    batch_size=batch_size, \n",
    "                    epochs=epochs, \n",
    "                    callbacks=[early_stopping], \n",
    "                    validation_split=0.2,\n",
    "                    workers=8,\n",
    "                    use_multiprocessing=True,\n",
    "                   )\n"
   ]
  },
  {
   "cell_type": "code",
   "execution_count": 49,
   "metadata": {},
   "outputs": [
    {
     "data": {
      "text/plain": [
       "<matplotlib.axes._subplots.AxesSubplot at 0x7fc1906be910>"
      ]
     },
     "execution_count": 49,
     "metadata": {},
     "output_type": "execute_result"
    },
    {
     "data": {
      "image/png": "[encoded data removed]",
      "text/plain": [
       "<Figure size 432x288 with 1 Axes>"
      ]
     },
     "metadata": {
      "needs_background": "light"
     },
     "output_type": "display_data"
    },
    {
     "data": {
      "image/png": "[encoded data removed]",
      "text/plain": [
       "<Figure size 432x288 with 1 Axes>"
      ]
     },
     "metadata": {
      "needs_background": "light"
     },
     "output_type": "display_data"
    }
   ],
   "source": [
    "import pandas as pd\n",
    "history_frame = pd.DataFrame(history.history)\n",
    "history_frame.loc[:, ['loss', 'val_loss']].plot()\n",
    "history_frame.loc[:, ['categorical_accuracy', 'val_categorical_accuracy']].plot()\n",
    "# plt.ylim([0.985, 1.0])"
   ]
  },
  {
   "cell_type": "code",
   "execution_count": 50,
   "metadata": {},
   "outputs": [],
   "source": [
    "predictions = model.predict(test)"
   ]
  },
  {
   "cell_type": "code",
   "execution_count": 51,
   "metadata": {},
   "outputs": [],
   "source": [
    "predictions_cat = predictions.argmax(axis=1)+1"
   ]
  },
  {
   "cell_type": "code",
   "execution_count": 52,
   "metadata": {},
   "outputs": [
    {
     "data": {
      "text/plain": [
       "(1000000,)"
      ]
     },
     "execution_count": 52,
     "metadata": {},
     "output_type": "execute_result"
    }
   ],
   "source": [
    "predictions_cat.shape"
   ]
  },
  {
   "cell_type": "code",
   "execution_count": 53,
   "metadata": {},
   "outputs": [
    {
     "data": {
      "text/plain": [
       "array([3.7729782e-07, 9.9998355e-01, 1.5884081e-05, 7.8479147e-08,\n",
       "       2.7216553e-08, 9.8754214e-08, 9.9533652e-09], dtype=float32)"
      ]
     },
     "execution_count": 53,
     "metadata": {},
     "output_type": "execute_result"
    }
   ],
   "source": [
    "predictions[0]"
   ]
  },
  {
   "cell_type": "code",
   "execution_count": 54,
   "metadata": {},
   "outputs": [
    {
     "data": {
      "text/plain": [
       "2"
      ]
     },
     "execution_count": 54,
     "metadata": {},
     "output_type": "execute_result"
    }
   ],
   "source": [
    "predictions_cat[0]"
   ]
  },
  {
   "cell_type": "code",
   "execution_count": 55,
   "metadata": {},
   "outputs": [
    {
     "data": {
      "text/plain": [
       "(1000000, 2)"
      ]
     },
     "execution_count": 55,
     "metadata": {},
     "output_type": "execute_result"
    }
   ],
   "source": [
    "sub = pd.DataFrame({'Id': list(range(4000000,5000000)), 'Cover_Type': predictions_cat})\n",
    "sub.shape"
   ]
  },
  {
   "cell_type": "code",
   "execution_count": 56,
   "metadata": {},
   "outputs": [],
   "source": [
    "sub.to_csv(\"data/submission_08_fixed_features2.csv\", index=False)"
   ]
  },
  {
   "cell_type": "code",
   "execution_count": null,
   "metadata": {},
   "outputs": [],
   "source": []
  },
  {
   "cell_type": "code",
   "execution_count": null,
   "metadata": {},
   "outputs": [],
   "source": []
  },
  {
   "cell_type": "code",
   "execution_count": 30,
   "metadata": {},
   "outputs": [
    {
     "data": {
      "text/plain": [
       "<matplotlib.axes._subplots.AxesSubplot at 0x7f98006ba990>"
      ]
     },
     "execution_count": 30,
     "metadata": {},
     "output_type": "execute_result"
    },
    {
     "data": {
      "image/png": "[encoded data removed]",
      "text/plain": [
       "<Figure size 432x288 with 1 Axes>"
      ]
     },
     "metadata": {
      "needs_background": "light"
     },
     "output_type": "display_data"
    }
   ],
   "source": [
    "sub['Cover_Type'].hist()"
   ]
  },
  {
   "cell_type": "code",
   "execution_count": null,
   "metadata": {},
   "outputs": [],
   "source": []
  }
 ],
 "metadata": {
  "kernelspec": {
   "display_name": "Python 3",
   "language": "python",
   "name": "python3"
  },
  "language_info": {
   "codemirror_mode": {
    "name": "ipython",
    "version": 3
   },
   "file_extension": ".py",
   "mimetype": "text/x-python",
   "name": "python",
   "nbconvert_exporter": "python",
   "pygments_lexer": "ipython3",
   "version": "3.7.4"
  }
 },
 "nbformat": 4,
 "nbformat_minor": 2
}
